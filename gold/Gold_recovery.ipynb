{
 "cells": [
  {
   "cell_type": "markdown",
   "metadata": {},
   "source": [
    "# Описание проекта\n",
    "\n",
    "Подготовьте прототип модели машинного обучения для «Цифры». Компания разрабатывает решения для эффективной работы промышленных предприятий.\n",
    "\n",
    "Модель должна предсказать коэффициент восстановления золота из золотосодержащей руды. В вашем распоряжении данные с параметрами добычи и очистки. \n",
    "\n",
    "Модель поможет оптимизировать производство, чтобы не запускать предприятие с убыточными характеристиками."
   ]
  },
  {
   "cell_type": "markdown",
   "metadata": {},
   "source": [
    "# 1. Подготовка данных"
   ]
  },
  {
   "cell_type": "code",
   "execution_count": 1,
   "metadata": {},
   "outputs": [],
   "source": [
    "import pandas as pd\n",
    "import seaborn as sns\n",
    "import numpy as np\n",
    "import matplotlib.pyplot as plt\n",
    "from sklearn.preprocessing import StandardScaler\n",
    "from sklearn.linear_model import LinearRegression\n",
    "from sklearn.tree import DecisionTreeRegressor\n",
    "from sklearn.ensemble import RandomForestRegressor\n",
    "from sklearn.model_selection import RandomizedSearchCV, train_test_split\n",
    "from sklearn.metrics import mean_absolute_error, make_scorer\n",
    "from scipy import stats as st\n",
    "from numpy.random import RandomState\n",
    "import warnings\n",
    "warnings.filterwarnings('ignore')"
   ]
  },
  {
   "cell_type": "markdown",
   "metadata": {},
   "source": [
    "## 1.1 Загрузим исходные данные"
   ]
  },
  {
   "cell_type": "code",
   "execution_count": 2,
   "metadata": {
    "scrolled": false
   },
   "outputs": [],
   "source": [
    "full = pd.read_csv('/datasets/gold_recovery_full.csv')"
   ]
  },
  {
   "cell_type": "markdown",
   "metadata": {},
   "source": [
    "Представленные данные включают 87 столбцов, содержащих: дату и время поступления данных, технологические данные оборудования, входные и выходные концентрации продукта, расчетные соотношения реагентов к концентрату золота, а так же черновую и окончательную эфективность очистки.\n",
    "\n",
    "Данные содержат пропуски. Пропуски в основном соответствуют сбою технологического оборудования отвечающего за измерение соответствующего показателя. Такие пропуски можно заполнить предыдущим или следующим показателем. В случае характеристик продукта заполнение пропусков не целесообразно.\n",
    "\n",
    "Для машинного обучения здесь представляют интерес только данные о параметрах технологического процеса и характеристики сырья для описания признаков, а данные о эффективности очистки в качестве целевых показателей. \n",
    "\n",
    "Данные о дате, расчетных соотношениях, промежуточных концентрациях элементов и концентрации элементов в отвалах можно удалить."
   ]
  },
  {
   "cell_type": "code",
   "execution_count": 3,
   "metadata": {
    "scrolled": true
   },
   "outputs": [],
   "source": [
    "test = pd.read_csv('/datasets/gold_recovery_test.csv')"
   ]
  },
  {
   "cell_type": "markdown",
   "metadata": {},
   "source": [
    "Набор тестовых данных содержит меньшее количество столбцов. Видимо часть данных было удалено при подготовке."
   ]
  },
  {
   "cell_type": "code",
   "execution_count": 4,
   "metadata": {
    "scrolled": false
   },
   "outputs": [],
   "source": [
    "train = pd.read_csv('/datasets/gold_recovery_train.csv')"
   ]
  },
  {
   "cell_type": "markdown",
   "metadata": {},
   "source": [
    "Обучающий набор данных соответсвует выборке 75% основного массива данных и содержит все приведенные в нем характеристики производства.\n",
    "\n",
    "Рассмотрим, какие признаки были удалены при подготовке тестовой выборки."
   ]
  },
  {
   "cell_type": "code",
   "execution_count": 5,
   "metadata": {
    "scrolled": false
   },
   "outputs": [],
   "source": [
    "test_droped = train.drop(test.columns,axis=1)"
   ]
  },
  {
   "cell_type": "markdown",
   "metadata": {},
   "source": [
    "При подготовке тестовой выбоки была удалена информация о: концентрациях элементов после каждой стадии очистки в отвалах и продукте; расчетных соотношениях реагентов и выходного продукта; эффективности очистки.\n",
    "\n",
    "Фактически, тестовая выборка представляет почти готовый набор признаков для обучения. Остается только обработать пропуски данных и удалить дату измерения параметров т.к. она не относится к характеристикам технологического процесса."
   ]
  },
  {
   "cell_type": "markdown",
   "metadata": {},
   "source": [
    "## 1.2 Проверим правильность расчета эффективности очистки"
   ]
  },
  {
   "cell_type": "markdown",
   "metadata": {},
   "source": [
    "Выделим данные необходимые для расчета эффективности очистки и посчитаем ее."
   ]
  },
  {
   "cell_type": "code",
   "execution_count": 6,
   "metadata": {
    "scrolled": true
   },
   "outputs": [
    {
     "name": "stdout",
     "output_type": "stream",
     "text": [
      "<class 'pandas.core.frame.DataFrame'>\n",
      "RangeIndex: 16860 entries, 0 to 16859\n",
      "Data columns (total 5 columns):\n",
      "experimental    14287 non-null float64\n",
      "feed            16777 non-null float64\n",
      "tail            14611 non-null float64\n",
      "concentrate     16778 non-null float64\n",
      "calculated      14577 non-null float64\n",
      "dtypes: float64(5)\n",
      "memory usage: 658.7 KB\n"
     ]
    },
    {
     "data": {
      "text/html": [
       "<div>\n",
       "<style scoped>\n",
       "    .dataframe tbody tr th:only-of-type {\n",
       "        vertical-align: middle;\n",
       "    }\n",
       "\n",
       "    .dataframe tbody tr th {\n",
       "        vertical-align: top;\n",
       "    }\n",
       "\n",
       "    .dataframe thead th {\n",
       "        text-align: right;\n",
       "    }\n",
       "</style>\n",
       "<table border=\"1\" class=\"dataframe\">\n",
       "  <thead>\n",
       "    <tr style=\"text-align: right;\">\n",
       "      <th></th>\n",
       "      <th>experimental</th>\n",
       "      <th>feed</th>\n",
       "      <th>tail</th>\n",
       "      <th>concentrate</th>\n",
       "      <th>calculated</th>\n",
       "    </tr>\n",
       "  </thead>\n",
       "  <tbody>\n",
       "    <tr>\n",
       "      <td>0</td>\n",
       "      <td>87.107763</td>\n",
       "      <td>6.486150</td>\n",
       "      <td>1.170244</td>\n",
       "      <td>19.793808</td>\n",
       "      <td>87.107763</td>\n",
       "    </tr>\n",
       "    <tr>\n",
       "      <td>1</td>\n",
       "      <td>86.843261</td>\n",
       "      <td>6.478583</td>\n",
       "      <td>1.184827</td>\n",
       "      <td>20.050975</td>\n",
       "      <td>86.843261</td>\n",
       "    </tr>\n",
       "    <tr>\n",
       "      <td>2</td>\n",
       "      <td>86.842308</td>\n",
       "      <td>6.362222</td>\n",
       "      <td>1.162562</td>\n",
       "      <td>19.737170</td>\n",
       "      <td>86.842308</td>\n",
       "    </tr>\n",
       "    <tr>\n",
       "      <td>3</td>\n",
       "      <td>87.226430</td>\n",
       "      <td>6.118189</td>\n",
       "      <td>1.079755</td>\n",
       "      <td>19.320810</td>\n",
       "      <td>87.226430</td>\n",
       "    </tr>\n",
       "    <tr>\n",
       "      <td>4</td>\n",
       "      <td>86.688794</td>\n",
       "      <td>5.663707</td>\n",
       "      <td>1.012642</td>\n",
       "      <td>19.216101</td>\n",
       "      <td>86.688794</td>\n",
       "    </tr>\n",
       "  </tbody>\n",
       "</table>\n",
       "</div>"
      ],
      "text/plain": [
       "   experimental      feed      tail  concentrate  calculated\n",
       "0     87.107763  6.486150  1.170244    19.793808   87.107763\n",
       "1     86.843261  6.478583  1.184827    20.050975   86.843261\n",
       "2     86.842308  6.362222  1.162562    19.737170   86.842308\n",
       "3     87.226430  6.118189  1.079755    19.320810   87.226430\n",
       "4     86.688794  5.663707  1.012642    19.216101   86.688794"
      ]
     },
     "metadata": {},
     "output_type": "display_data"
    },
    {
     "data": {
      "text/plain": [
       "None"
      ]
     },
     "metadata": {},
     "output_type": "display_data"
    },
    {
     "data": {
      "text/html": [
       "<div>\n",
       "<style scoped>\n",
       "    .dataframe tbody tr th:only-of-type {\n",
       "        vertical-align: middle;\n",
       "    }\n",
       "\n",
       "    .dataframe tbody tr th {\n",
       "        vertical-align: top;\n",
       "    }\n",
       "\n",
       "    .dataframe thead th {\n",
       "        text-align: right;\n",
       "    }\n",
       "</style>\n",
       "<table border=\"1\" class=\"dataframe\">\n",
       "  <thead>\n",
       "    <tr style=\"text-align: right;\">\n",
       "      <th></th>\n",
       "      <th>experimental</th>\n",
       "      <th>feed</th>\n",
       "      <th>tail</th>\n",
       "      <th>concentrate</th>\n",
       "      <th>calculated</th>\n",
       "    </tr>\n",
       "  </thead>\n",
       "  <tbody>\n",
       "    <tr>\n",
       "      <td>count</td>\n",
       "      <td>14287.000000</td>\n",
       "      <td>16777.000000</td>\n",
       "      <td>14611.000000</td>\n",
       "      <td>16778.000000</td>\n",
       "      <td>1.457700e+04</td>\n",
       "    </tr>\n",
       "    <tr>\n",
       "      <td>mean</td>\n",
       "      <td>82.394201</td>\n",
       "      <td>7.170717</td>\n",
       "      <td>1.763930</td>\n",
       "      <td>17.401541</td>\n",
       "      <td>NaN</td>\n",
       "    </tr>\n",
       "    <tr>\n",
       "      <td>std</td>\n",
       "      <td>15.096808</td>\n",
       "      <td>3.002113</td>\n",
       "      <td>0.731518</td>\n",
       "      <td>6.921875</td>\n",
       "      <td>NaN</td>\n",
       "    </tr>\n",
       "    <tr>\n",
       "      <td>min</td>\n",
       "      <td>0.000000</td>\n",
       "      <td>0.000000</td>\n",
       "      <td>0.020676</td>\n",
       "      <td>0.000000</td>\n",
       "      <td>-inf</td>\n",
       "    </tr>\n",
       "    <tr>\n",
       "      <td>25%</td>\n",
       "      <td>79.818372</td>\n",
       "      <td>6.203083</td>\n",
       "      <td>1.311610</td>\n",
       "      <td>17.443663</td>\n",
       "      <td>7.965104e+01</td>\n",
       "    </tr>\n",
       "    <tr>\n",
       "      <td>50%</td>\n",
       "      <td>85.235997</td>\n",
       "      <td>7.443530</td>\n",
       "      <td>1.747907</td>\n",
       "      <td>19.644663</td>\n",
       "      <td>8.521533e+01</td>\n",
       "    </tr>\n",
       "    <tr>\n",
       "      <td>75%</td>\n",
       "      <td>90.131691</td>\n",
       "      <td>8.965193</td>\n",
       "      <td>2.190839</td>\n",
       "      <td>21.224486</td>\n",
       "      <td>9.019726e+01</td>\n",
       "    </tr>\n",
       "    <tr>\n",
       "      <td>max</td>\n",
       "      <td>100.000000</td>\n",
       "      <td>14.093363</td>\n",
       "      <td>9.688980</td>\n",
       "      <td>28.522811</td>\n",
       "      <td>inf</td>\n",
       "    </tr>\n",
       "  </tbody>\n",
       "</table>\n",
       "</div>"
      ],
      "text/plain": [
       "       experimental          feed          tail   concentrate    calculated\n",
       "count  14287.000000  16777.000000  14611.000000  16778.000000  1.457700e+04\n",
       "mean      82.394201      7.170717      1.763930     17.401541           NaN\n",
       "std       15.096808      3.002113      0.731518      6.921875           NaN\n",
       "min        0.000000      0.000000      0.020676      0.000000          -inf\n",
       "25%       79.818372      6.203083      1.311610     17.443663  7.965104e+01\n",
       "50%       85.235997      7.443530      1.747907     19.644663  8.521533e+01\n",
       "75%       90.131691      8.965193      2.190839     21.224486  9.019726e+01\n",
       "max      100.000000     14.093363      9.688980     28.522811           inf"
      ]
     },
     "metadata": {},
     "output_type": "display_data"
    }
   ],
   "source": [
    "recovery = pd.DataFrame()\n",
    "recovery['experimental'] = train['rougher.output.recovery']\n",
    "recovery['feed'] = train['rougher.input.feed_au']\n",
    "recovery['tail'] = train['rougher.output.tail_au']\n",
    "recovery['concentrate'] = train['rougher.output.concentrate_au']\n",
    "recovery['calculated'] = recovery['concentrate']*100*(\n",
    "                         recovery['feed']-recovery['tail'])/(\n",
    "                         recovery['feed']*(\n",
    "                         recovery['concentrate']-recovery['tail']))\n",
    "display(recovery.head(),recovery.info(),recovery.describe())"
   ]
  },
  {
   "cell_type": "markdown",
   "metadata": {},
   "source": [
    "Анализируя верхние значения эффективности можно сделать вывод о правильности проведенных расчетов. Однако характеристики распределения значений эффективности поднимают несколько вопросов:\n",
    "- отрицательные значения эффективности;\n",
    "- верхний и нижний предел уходят в бесконечность.\n",
    "Логически допустимые значения эффективности должны лежать в пределах от 0 до 100%. \n",
    "\n",
    "Отрицательные значения, исходя из формулы, возможны когда концентрация золота в отвалах превышает концентрацию в целевом продукте, что наверное возможно пока производство не достаточно отлажено. А наиболее вероятно данные аномалии возникают из-за сбоя регистрирующего оборудования.\n",
    "\n",
    "Превышение 100% не возможно, если только на производстве не применяется \"философский камень\" о чем в документации не упоминается.\n",
    "\n",
    "Бесконечные значения возникают при нулевой концентрации золота в сырье, данную ошибку легко учесть при пошаговом расчете эффективности.\n",
    "\n",
    "Рассмотрим последовательно аномальные значения расчетной эффективности."
   ]
  },
  {
   "cell_type": "code",
   "execution_count": 7,
   "metadata": {
    "scrolled": false
   },
   "outputs": [
    {
     "data": {
      "text/html": [
       "<div>\n",
       "<style scoped>\n",
       "    .dataframe tbody tr th:only-of-type {\n",
       "        vertical-align: middle;\n",
       "    }\n",
       "\n",
       "    .dataframe tbody tr th {\n",
       "        vertical-align: top;\n",
       "    }\n",
       "\n",
       "    .dataframe thead th {\n",
       "        text-align: right;\n",
       "    }\n",
       "</style>\n",
       "<table border=\"1\" class=\"dataframe\">\n",
       "  <thead>\n",
       "    <tr style=\"text-align: right;\">\n",
       "      <th></th>\n",
       "      <th>experimental</th>\n",
       "      <th>feed</th>\n",
       "      <th>tail</th>\n",
       "      <th>concentrate</th>\n",
       "      <th>calculated</th>\n",
       "    </tr>\n",
       "  </thead>\n",
       "  <tbody>\n",
       "    <tr>\n",
       "      <td>372</td>\n",
       "      <td>NaN</td>\n",
       "      <td>0.139652</td>\n",
       "      <td>2.574309</td>\n",
       "      <td>4.642559</td>\n",
       "      <td>-3913.312866</td>\n",
       "    </tr>\n",
       "    <tr>\n",
       "      <td>377</td>\n",
       "      <td>NaN</td>\n",
       "      <td>3.501578</td>\n",
       "      <td>5.964024</td>\n",
       "      <td>15.084039</td>\n",
       "      <td>-116.312118</td>\n",
       "    </tr>\n",
       "    <tr>\n",
       "      <td>560</td>\n",
       "      <td>NaN</td>\n",
       "      <td>1.921101</td>\n",
       "      <td>1.939904</td>\n",
       "      <td>19.619751</td>\n",
       "      <td>-1.086185</td>\n",
       "    </tr>\n",
       "    <tr>\n",
       "      <td>700</td>\n",
       "      <td>NaN</td>\n",
       "      <td>0.253075</td>\n",
       "      <td>1.477470</td>\n",
       "      <td>1.483835</td>\n",
       "      <td>-112789.873301</td>\n",
       "    </tr>\n",
       "    <tr>\n",
       "      <td>812</td>\n",
       "      <td>NaN</td>\n",
       "      <td>1.489851</td>\n",
       "      <td>2.483197</td>\n",
       "      <td>16.561142</td>\n",
       "      <td>-78.434804</td>\n",
       "    </tr>\n",
       "    <tr>\n",
       "      <td>...</td>\n",
       "      <td>...</td>\n",
       "      <td>...</td>\n",
       "      <td>...</td>\n",
       "      <td>...</td>\n",
       "      <td>...</td>\n",
       "    </tr>\n",
       "    <tr>\n",
       "      <td>16607</td>\n",
       "      <td>NaN</td>\n",
       "      <td>0.010000</td>\n",
       "      <td>2.258871</td>\n",
       "      <td>3.366292</td>\n",
       "      <td>-68360.243330</td>\n",
       "    </tr>\n",
       "    <tr>\n",
       "      <td>16654</td>\n",
       "      <td>NaN</td>\n",
       "      <td>10.120533</td>\n",
       "      <td>1.335850</td>\n",
       "      <td>0.010000</td>\n",
       "      <td>-0.654679</td>\n",
       "    </tr>\n",
       "    <tr>\n",
       "      <td>16699</td>\n",
       "      <td>NaN</td>\n",
       "      <td>10.149224</td>\n",
       "      <td>1.729189</td>\n",
       "      <td>0.010000</td>\n",
       "      <td>-0.482567</td>\n",
       "    </tr>\n",
       "    <tr>\n",
       "      <td>16700</td>\n",
       "      <td>NaN</td>\n",
       "      <td>10.591710</td>\n",
       "      <td>1.481931</td>\n",
       "      <td>0.010000</td>\n",
       "      <td>-0.584325</td>\n",
       "    </tr>\n",
       "    <tr>\n",
       "      <td>16701</td>\n",
       "      <td>NaN</td>\n",
       "      <td>11.420406</td>\n",
       "      <td>1.803747</td>\n",
       "      <td>0.031533</td>\n",
       "      <td>-1.498298</td>\n",
       "    </tr>\n",
       "  </tbody>\n",
       "</table>\n",
       "<p>165 rows × 5 columns</p>\n",
       "</div>"
      ],
      "text/plain": [
       "       experimental       feed      tail  concentrate     calculated\n",
       "372             NaN   0.139652  2.574309     4.642559   -3913.312866\n",
       "377             NaN   3.501578  5.964024    15.084039    -116.312118\n",
       "560             NaN   1.921101  1.939904    19.619751      -1.086185\n",
       "700             NaN   0.253075  1.477470     1.483835 -112789.873301\n",
       "812             NaN   1.489851  2.483197    16.561142     -78.434804\n",
       "...             ...        ...       ...          ...            ...\n",
       "16607           NaN   0.010000  2.258871     3.366292  -68360.243330\n",
       "16654           NaN  10.120533  1.335850     0.010000      -0.654679\n",
       "16699           NaN  10.149224  1.729189     0.010000      -0.482567\n",
       "16700           NaN  10.591710  1.481931     0.010000      -0.584325\n",
       "16701           NaN  11.420406  1.803747     0.031533      -1.498298\n",
       "\n",
       "[165 rows x 5 columns]"
      ]
     },
     "execution_count": 7,
     "metadata": {},
     "output_type": "execute_result"
    }
   ],
   "source": [
    "recovery.query('calculated < 0')"
   ]
  },
  {
   "cell_type": "markdown",
   "metadata": {},
   "source": [
    "Здесь, мы видим два случая возникновения отрицательных значений эффективности. Один мы уже рассмотрели: концентрация золота в продукте ниже чем в отвале. Однако здесь не наблюдается увеличения концентрации золота в отвале, а следовательно имеет место сбой регистрации оборудования. \n",
    "\n",
    "Вторая группа данных: концентрация золота в отвале превышает концентрацию золота в сырье. Такое не возможно впринципе. \n",
    "\n",
    "При подготовке данных случай отрицательной эффективности очистки следует удалить. Как это и сделано в исходном варианте."
   ]
  },
  {
   "cell_type": "code",
   "execution_count": 8,
   "metadata": {
    "scrolled": false
   },
   "outputs": [
    {
     "data": {
      "text/html": [
       "<div>\n",
       "<style scoped>\n",
       "    .dataframe tbody tr th:only-of-type {\n",
       "        vertical-align: middle;\n",
       "    }\n",
       "\n",
       "    .dataframe tbody tr th {\n",
       "        vertical-align: top;\n",
       "    }\n",
       "\n",
       "    .dataframe thead th {\n",
       "        text-align: right;\n",
       "    }\n",
       "</style>\n",
       "<table border=\"1\" class=\"dataframe\">\n",
       "  <thead>\n",
       "    <tr style=\"text-align: right;\">\n",
       "      <th></th>\n",
       "      <th>experimental</th>\n",
       "      <th>feed</th>\n",
       "      <th>tail</th>\n",
       "      <th>concentrate</th>\n",
       "      <th>calculated</th>\n",
       "    </tr>\n",
       "  </thead>\n",
       "  <tbody>\n",
       "    <tr>\n",
       "      <td>53</td>\n",
       "      <td>NaN</td>\n",
       "      <td>7.548341</td>\n",
       "      <td>2.187465</td>\n",
       "      <td>3.507147</td>\n",
       "      <td>188.742102</td>\n",
       "    </tr>\n",
       "    <tr>\n",
       "      <td>835</td>\n",
       "      <td>NaN</td>\n",
       "      <td>11.209605</td>\n",
       "      <td>1.359009</td>\n",
       "      <td>5.966380</td>\n",
       "      <td>113.796771</td>\n",
       "    </tr>\n",
       "    <tr>\n",
       "      <td>837</td>\n",
       "      <td>NaN</td>\n",
       "      <td>11.484935</td>\n",
       "      <td>1.521192</td>\n",
       "      <td>8.347044</td>\n",
       "      <td>106.088867</td>\n",
       "    </tr>\n",
       "    <tr>\n",
       "      <td>2058</td>\n",
       "      <td>NaN</td>\n",
       "      <td>7.124742</td>\n",
       "      <td>2.570645</td>\n",
       "      <td>2.860661</td>\n",
       "      <td>630.489449</td>\n",
       "    </tr>\n",
       "    <tr>\n",
       "      <td>2072</td>\n",
       "      <td>NaN</td>\n",
       "      <td>7.069204</td>\n",
       "      <td>3.504448</td>\n",
       "      <td>6.544348</td>\n",
       "      <td>108.559127</td>\n",
       "    </tr>\n",
       "    <tr>\n",
       "      <td>...</td>\n",
       "      <td>...</td>\n",
       "      <td>...</td>\n",
       "      <td>...</td>\n",
       "      <td>...</td>\n",
       "      <td>...</td>\n",
       "    </tr>\n",
       "    <tr>\n",
       "      <td>16525</td>\n",
       "      <td>NaN</td>\n",
       "      <td>10.484898</td>\n",
       "      <td>1.544372</td>\n",
       "      <td>10.169620</td>\n",
       "      <td>100.538404</td>\n",
       "    </tr>\n",
       "    <tr>\n",
       "      <td>16647</td>\n",
       "      <td>NaN</td>\n",
       "      <td>10.404188</td>\n",
       "      <td>1.595380</td>\n",
       "      <td>10.133832</td>\n",
       "      <td>100.485526</td>\n",
       "    </tr>\n",
       "    <tr>\n",
       "      <td>16653</td>\n",
       "      <td>NaN</td>\n",
       "      <td>10.556043</td>\n",
       "      <td>1.501984</td>\n",
       "      <td>1.522571</td>\n",
       "      <td>6343.566718</td>\n",
       "    </tr>\n",
       "    <tr>\n",
       "      <td>16697</td>\n",
       "      <td>NaN</td>\n",
       "      <td>11.035269</td>\n",
       "      <td>1.343570</td>\n",
       "      <td>6.038533</td>\n",
       "      <td>112.957805</td>\n",
       "    </tr>\n",
       "    <tr>\n",
       "      <td>16698</td>\n",
       "      <td>NaN</td>\n",
       "      <td>10.943209</td>\n",
       "      <td>1.858404</td>\n",
       "      <td>10.712677</td>\n",
       "      <td>100.442153</td>\n",
       "    </tr>\n",
       "  </tbody>\n",
       "</table>\n",
       "<p>125 rows × 5 columns</p>\n",
       "</div>"
      ],
      "text/plain": [
       "       experimental       feed      tail  concentrate   calculated\n",
       "53              NaN   7.548341  2.187465     3.507147   188.742102\n",
       "835             NaN  11.209605  1.359009     5.966380   113.796771\n",
       "837             NaN  11.484935  1.521192     8.347044   106.088867\n",
       "2058            NaN   7.124742  2.570645     2.860661   630.489449\n",
       "2072            NaN   7.069204  3.504448     6.544348   108.559127\n",
       "...             ...        ...       ...          ...          ...\n",
       "16525           NaN  10.484898  1.544372    10.169620   100.538404\n",
       "16647           NaN  10.404188  1.595380    10.133832   100.485526\n",
       "16653           NaN  10.556043  1.501984     1.522571  6343.566718\n",
       "16697           NaN  11.035269  1.343570     6.038533   112.957805\n",
       "16698           NaN  10.943209  1.858404    10.712677   100.442153\n",
       "\n",
       "[125 rows x 5 columns]"
      ]
     },
     "execution_count": 8,
     "metadata": {},
     "output_type": "execute_result"
    }
   ],
   "source": [
    "recovery.query('calculated > 100')"
   ]
  },
  {
   "cell_type": "markdown",
   "metadata": {},
   "source": [
    "В данном случае ситуация очень странная. Эффективность очистки очень высокая при весьма плохих показателях. Концентрации золота в отвалах и кончном продукте примерно одинаковые. \n",
    "\n",
    "Это происходит из-за знаменателя формулы расчета эффективности очистки. Чем меньше разница между концентрацие золота в конечном продукте и отвалах, тем больше эфективность. Данное утверждение не имеет смысла. Цель очистки - получить максимальную концентрацию золота в конечном продукте при минимальных потерях. Поэтому наиболее вероятно в формулу расчета эффективности закралась ошибка. Ее можно преобразовать к виду: \n",
    "\n",
    "(1-T/F)(1-T/C)\n",
    "\n",
    "Теперь понятна цель очистки минимизировать отношение концентрации золота в отвалах к концентрации золота в сырье и конечном продукте."
   ]
  },
  {
   "cell_type": "markdown",
   "metadata": {},
   "source": [
    "Рассмотрим случай нулевых значений эффективности. Здесь возможны два варианта:\n",
    "- золото отсутствует в конечном продукте;\n",
    "- золото отсутствует в сырье."
   ]
  },
  {
   "cell_type": "code",
   "execution_count": 9,
   "metadata": {
    "scrolled": false
   },
   "outputs": [
    {
     "data": {
      "text/html": [
       "<div>\n",
       "<style scoped>\n",
       "    .dataframe tbody tr th:only-of-type {\n",
       "        vertical-align: middle;\n",
       "    }\n",
       "\n",
       "    .dataframe tbody tr th {\n",
       "        vertical-align: top;\n",
       "    }\n",
       "\n",
       "    .dataframe thead th {\n",
       "        text-align: right;\n",
       "    }\n",
       "</style>\n",
       "<table border=\"1\" class=\"dataframe\">\n",
       "  <thead>\n",
       "    <tr style=\"text-align: right;\">\n",
       "      <th></th>\n",
       "      <th>experimental</th>\n",
       "      <th>feed</th>\n",
       "      <th>tail</th>\n",
       "      <th>concentrate</th>\n",
       "      <th>calculated</th>\n",
       "    </tr>\n",
       "  </thead>\n",
       "  <tbody>\n",
       "    <tr>\n",
       "      <td>45</td>\n",
       "      <td>0.0</td>\n",
       "      <td>7.114065</td>\n",
       "      <td>1.939811</td>\n",
       "      <td>0.0</td>\n",
       "      <td>-0.0</td>\n",
       "    </tr>\n",
       "    <tr>\n",
       "      <td>46</td>\n",
       "      <td>0.0</td>\n",
       "      <td>7.651522</td>\n",
       "      <td>2.087628</td>\n",
       "      <td>0.0</td>\n",
       "      <td>-0.0</td>\n",
       "    </tr>\n",
       "    <tr>\n",
       "      <td>47</td>\n",
       "      <td>0.0</td>\n",
       "      <td>5.587750</td>\n",
       "      <td>2.126460</td>\n",
       "      <td>0.0</td>\n",
       "      <td>-0.0</td>\n",
       "    </tr>\n",
       "    <tr>\n",
       "      <td>48</td>\n",
       "      <td>0.0</td>\n",
       "      <td>4.752992</td>\n",
       "      <td>1.938869</td>\n",
       "      <td>0.0</td>\n",
       "      <td>-0.0</td>\n",
       "    </tr>\n",
       "    <tr>\n",
       "      <td>49</td>\n",
       "      <td>0.0</td>\n",
       "      <td>0.033369</td>\n",
       "      <td>2.043403</td>\n",
       "      <td>0.0</td>\n",
       "      <td>0.0</td>\n",
       "    </tr>\n",
       "    <tr>\n",
       "      <td>...</td>\n",
       "      <td>...</td>\n",
       "      <td>...</td>\n",
       "      <td>...</td>\n",
       "      <td>...</td>\n",
       "      <td>...</td>\n",
       "    </tr>\n",
       "    <tr>\n",
       "      <td>12360</td>\n",
       "      <td>0.0</td>\n",
       "      <td>7.951063</td>\n",
       "      <td>0.741875</td>\n",
       "      <td>0.0</td>\n",
       "      <td>-0.0</td>\n",
       "    </tr>\n",
       "    <tr>\n",
       "      <td>12361</td>\n",
       "      <td>0.0</td>\n",
       "      <td>8.715784</td>\n",
       "      <td>0.827984</td>\n",
       "      <td>0.0</td>\n",
       "      <td>-0.0</td>\n",
       "    </tr>\n",
       "    <tr>\n",
       "      <td>12362</td>\n",
       "      <td>0.0</td>\n",
       "      <td>9.026122</td>\n",
       "      <td>1.051352</td>\n",
       "      <td>0.0</td>\n",
       "      <td>-0.0</td>\n",
       "    </tr>\n",
       "    <tr>\n",
       "      <td>12363</td>\n",
       "      <td>0.0</td>\n",
       "      <td>8.752430</td>\n",
       "      <td>1.064272</td>\n",
       "      <td>0.0</td>\n",
       "      <td>-0.0</td>\n",
       "    </tr>\n",
       "    <tr>\n",
       "      <td>12364</td>\n",
       "      <td>0.0</td>\n",
       "      <td>8.467616</td>\n",
       "      <td>1.066722</td>\n",
       "      <td>0.0</td>\n",
       "      <td>-0.0</td>\n",
       "    </tr>\n",
       "  </tbody>\n",
       "</table>\n",
       "<p>1493 rows × 5 columns</p>\n",
       "</div>"
      ],
      "text/plain": [
       "       experimental      feed      tail  concentrate  calculated\n",
       "45              0.0  7.114065  1.939811          0.0        -0.0\n",
       "46              0.0  7.651522  2.087628          0.0        -0.0\n",
       "47              0.0  5.587750  2.126460          0.0        -0.0\n",
       "48              0.0  4.752992  1.938869          0.0        -0.0\n",
       "49              0.0  0.033369  2.043403          0.0         0.0\n",
       "...             ...       ...       ...          ...         ...\n",
       "12360           0.0  7.951063  0.741875          0.0        -0.0\n",
       "12361           0.0  8.715784  0.827984          0.0        -0.0\n",
       "12362           0.0  9.026122  1.051352          0.0        -0.0\n",
       "12363           0.0  8.752430  1.064272          0.0        -0.0\n",
       "12364           0.0  8.467616  1.066722          0.0        -0.0\n",
       "\n",
       "[1493 rows x 5 columns]"
      ]
     },
     "execution_count": 9,
     "metadata": {},
     "output_type": "execute_result"
    }
   ],
   "source": [
    "recovery.query('concentrate == 0')"
   ]
  },
  {
   "cell_type": "markdown",
   "metadata": {},
   "source": [
    "Данный случай подобен уже рассмотренному ранее. нулевые значения следуют несколько часов подряд. Наиболее вероятно прибор был сломан. Хотя рассчитанная эффективность дает нулевое значение - это не соответствует действительности. Такие данные следует удалить из обучающей выборки."
   ]
  },
  {
   "cell_type": "code",
   "execution_count": 10,
   "metadata": {
    "scrolled": true
   },
   "outputs": [
    {
     "data": {
      "text/html": [
       "<div>\n",
       "<style scoped>\n",
       "    .dataframe tbody tr th:only-of-type {\n",
       "        vertical-align: middle;\n",
       "    }\n",
       "\n",
       "    .dataframe tbody tr th {\n",
       "        vertical-align: top;\n",
       "    }\n",
       "\n",
       "    .dataframe thead th {\n",
       "        text-align: right;\n",
       "    }\n",
       "</style>\n",
       "<table border=\"1\" class=\"dataframe\">\n",
       "  <thead>\n",
       "    <tr style=\"text-align: right;\">\n",
       "      <th></th>\n",
       "      <th>experimental</th>\n",
       "      <th>feed</th>\n",
       "      <th>tail</th>\n",
       "      <th>concentrate</th>\n",
       "      <th>calculated</th>\n",
       "    </tr>\n",
       "  </thead>\n",
       "  <tbody>\n",
       "    <tr>\n",
       "      <td>99</td>\n",
       "      <td>NaN</td>\n",
       "      <td>0.0</td>\n",
       "      <td>NaN</td>\n",
       "      <td>0.0</td>\n",
       "      <td>NaN</td>\n",
       "    </tr>\n",
       "    <tr>\n",
       "      <td>100</td>\n",
       "      <td>NaN</td>\n",
       "      <td>0.0</td>\n",
       "      <td>NaN</td>\n",
       "      <td>0.0</td>\n",
       "      <td>NaN</td>\n",
       "    </tr>\n",
       "    <tr>\n",
       "      <td>101</td>\n",
       "      <td>NaN</td>\n",
       "      <td>0.0</td>\n",
       "      <td>NaN</td>\n",
       "      <td>0.0</td>\n",
       "      <td>NaN</td>\n",
       "    </tr>\n",
       "    <tr>\n",
       "      <td>102</td>\n",
       "      <td>NaN</td>\n",
       "      <td>0.0</td>\n",
       "      <td>NaN</td>\n",
       "      <td>0.0</td>\n",
       "      <td>NaN</td>\n",
       "    </tr>\n",
       "    <tr>\n",
       "      <td>103</td>\n",
       "      <td>NaN</td>\n",
       "      <td>0.0</td>\n",
       "      <td>NaN</td>\n",
       "      <td>0.0</td>\n",
       "      <td>NaN</td>\n",
       "    </tr>\n",
       "    <tr>\n",
       "      <td>...</td>\n",
       "      <td>...</td>\n",
       "      <td>...</td>\n",
       "      <td>...</td>\n",
       "      <td>...</td>\n",
       "      <td>...</td>\n",
       "    </tr>\n",
       "    <tr>\n",
       "      <td>12052</td>\n",
       "      <td>NaN</td>\n",
       "      <td>0.0</td>\n",
       "      <td>NaN</td>\n",
       "      <td>0.0</td>\n",
       "      <td>NaN</td>\n",
       "    </tr>\n",
       "    <tr>\n",
       "      <td>12053</td>\n",
       "      <td>NaN</td>\n",
       "      <td>0.0</td>\n",
       "      <td>NaN</td>\n",
       "      <td>0.0</td>\n",
       "      <td>NaN</td>\n",
       "    </tr>\n",
       "    <tr>\n",
       "      <td>12054</td>\n",
       "      <td>NaN</td>\n",
       "      <td>0.0</td>\n",
       "      <td>NaN</td>\n",
       "      <td>0.0</td>\n",
       "      <td>NaN</td>\n",
       "    </tr>\n",
       "    <tr>\n",
       "      <td>12055</td>\n",
       "      <td>NaN</td>\n",
       "      <td>0.0</td>\n",
       "      <td>NaN</td>\n",
       "      <td>0.0</td>\n",
       "      <td>NaN</td>\n",
       "    </tr>\n",
       "    <tr>\n",
       "      <td>12056</td>\n",
       "      <td>NaN</td>\n",
       "      <td>0.0</td>\n",
       "      <td>NaN</td>\n",
       "      <td>0.0</td>\n",
       "      <td>NaN</td>\n",
       "    </tr>\n",
       "  </tbody>\n",
       "</table>\n",
       "<p>1159 rows × 5 columns</p>\n",
       "</div>"
      ],
      "text/plain": [
       "       experimental  feed  tail  concentrate  calculated\n",
       "99              NaN   0.0   NaN          0.0         NaN\n",
       "100             NaN   0.0   NaN          0.0         NaN\n",
       "101             NaN   0.0   NaN          0.0         NaN\n",
       "102             NaN   0.0   NaN          0.0         NaN\n",
       "103             NaN   0.0   NaN          0.0         NaN\n",
       "...             ...   ...   ...          ...         ...\n",
       "12052           NaN   0.0   NaN          0.0         NaN\n",
       "12053           NaN   0.0   NaN          0.0         NaN\n",
       "12054           NaN   0.0   NaN          0.0         NaN\n",
       "12055           NaN   0.0   NaN          0.0         NaN\n",
       "12056           NaN   0.0   NaN          0.0         NaN\n",
       "\n",
       "[1159 rows x 5 columns]"
      ]
     },
     "execution_count": 10,
     "metadata": {},
     "output_type": "execute_result"
    }
   ],
   "source": [
    "recovery.query('feed == 0')"
   ]
  },
  {
   "cell_type": "markdown",
   "metadata": {},
   "source": [
    "В случае нулевой концентрации золота в сырье все логично. Видимо порода была \"пустая\"."
   ]
  },
  {
   "cell_type": "markdown",
   "metadata": {},
   "source": [
    "## Выводы по проверке формулы расчета эффективности очистки"
   ]
  },
  {
   "cell_type": "markdown",
   "metadata": {},
   "source": [
    "Исходная формула расчета эффективности очистки давала ошибочные значения. Высокая эффективность достигалась при равных концентрациях золота в отвалах и конечном продукте, что приводило потерям продукта и не достаточной эффективности обогащения материала.\n",
    "\n",
    "Формула поправлена. Наивысшие значения должны достигаться при минимальных концентрациях золота в отвалах, по отношению к конечному продукту и сырью."
   ]
  },
  {
   "cell_type": "markdown",
   "metadata": {},
   "source": [
    "## 1.3 Подготовим данные к машинному обучению"
   ]
  },
  {
   "cell_type": "markdown",
   "metadata": {},
   "source": [
    "### 1.3.1 Подготовим данные для расчета чернового концентрата"
   ]
  },
  {
   "cell_type": "markdown",
   "metadata": {},
   "source": [
    "Создадим отдельный датасет с признаками и целевыми значениями относящимися только к черновой очистке."
   ]
  },
  {
   "cell_type": "code",
   "execution_count": 11,
   "metadata": {},
   "outputs": [],
   "source": [
    "rougher = full[['rougher.input.feed_ag',\n",
    "                'rougher.input.feed_pb',\n",
    "                'rougher.input.feed_rate',\n",
    "                'rougher.input.feed_size',\n",
    "                'rougher.input.feed_sol',\n",
    "                'rougher.input.feed_au',\n",
    "                'rougher.input.floatbank10_sulfate',\n",
    "                'rougher.input.floatbank10_xanthate',\n",
    "                'rougher.input.floatbank11_sulfate',\n",
    "                'rougher.input.floatbank11_xanthate',\n",
    "                'rougher.state.floatbank10_a_air',\n",
    "                'rougher.state.floatbank10_a_level',\n",
    "                'rougher.state.floatbank10_b_air',\n",
    "                'rougher.state.floatbank10_b_level',\n",
    "                'rougher.state.floatbank10_c_air',\n",
    "                'rougher.state.floatbank10_c_level',\n",
    "                'rougher.state.floatbank10_d_air',\n",
    "                'rougher.state.floatbank10_d_level',\n",
    "                'rougher.state.floatbank10_e_air',\n",
    "                'rougher.state.floatbank10_e_level',\n",
    "                'rougher.state.floatbank10_f_air',\n",
    "                'rougher.state.floatbank10_f_level',\n",
    "                'rougher.output.concentrate_au',\n",
    "                'rougher.output.tail_au']]"
   ]
  },
  {
   "cell_type": "markdown",
   "metadata": {},
   "source": [
    "Удалим пропуски во входных характеристиках руды и выходных концентрациях золота и отвалов, т.к. эти значения используются для расчета эффективности очистки - целевого признака."
   ]
  },
  {
   "cell_type": "code",
   "execution_count": 12,
   "metadata": {},
   "outputs": [],
   "source": [
    "rougher = rougher.dropna(subset =['rougher.input.feed_ag',\n",
    "                            'rougher.input.feed_pb',\n",
    "                            'rougher.input.feed_rate',\n",
    "                            'rougher.input.feed_size',\n",
    "                            'rougher.input.feed_sol',\n",
    "                            'rougher.input.feed_au',\n",
    "                            'rougher.output.concentrate_au',\n",
    "                            'rougher.output.tail_au'])"
   ]
  },
  {
   "cell_type": "markdown",
   "metadata": {},
   "source": [
    "Создадим функцию которая будет заполнять пропуски в данных соседними значениями, оставшиеся пропуски удалять. Так как пропуски в данных сырья и продукта уже удалены, эти столбцы не будут затронуты."
   ]
  },
  {
   "cell_type": "code",
   "execution_count": 13,
   "metadata": {},
   "outputs": [],
   "source": [
    "def nan_filler(df):\n",
    "    df = df.fillna(method='ffill', limit=1)\n",
    "    df = df.fillna(method='bfill', limit=1)\n",
    "    df = df.dropna()\n",
    "    return df"
   ]
  },
  {
   "cell_type": "code",
   "execution_count": 14,
   "metadata": {},
   "outputs": [],
   "source": [
    "rougher = nan_filler(rougher)"
   ]
  },
  {
   "cell_type": "markdown",
   "metadata": {},
   "source": [
    "В полученном датасете осталось сформировать целевой признак - эффективность очистки. Для начала посмотрим на распределения значений сырья концентрата и отвалов."
   ]
  },
  {
   "cell_type": "code",
   "execution_count": 15,
   "metadata": {
    "scrolled": false
   },
   "outputs": [
    {
     "data": {
      "image/png": "[encoded data removed]",
      "text/plain": [
       "<Figure size 432x288 with 1 Axes>"
      ]
     },
     "metadata": {
      "needs_background": "light"
     },
     "output_type": "display_data"
    }
   ],
   "source": [
    "sns.distplot(rougher['rougher.input.feed_au'], hist_kws={'label':'feed'})\n",
    "sns.distplot(rougher['rougher.output.tail_au'], hist_kws={'label':'tail'})\n",
    "sns.distplot(rougher['rougher.output.concentrate_au'],hist_kws={'label':'concentrate'})\n",
    "plt.legend()\n",
    "plt.xlabel('Концентрация золота')\n",
    "plt.show()"
   ]
  },
  {
   "cell_type": "markdown",
   "metadata": {},
   "source": [
    "Полученные распределения близки к нормальному и в своей основе не перекрываются. Предполагая, что отбраковка пустой породы производится заранее и не попадает в цех очистки можно выделить доверительный интервал содержания золота в сырье. Выделим такие данные."
   ]
  },
  {
   "cell_type": "code",
   "execution_count": 16,
   "metadata": {},
   "outputs": [
    {
     "data": {
      "text/plain": [
       "'Нижняя граница доверительного интервала содержания золота в сырье равна 5'"
      ]
     },
     "metadata": {},
     "output_type": "display_data"
    },
    {
     "data": {
      "text/plain": [
       "'Верхняя граница доверительного интервала содержания золота в сырье равна 12'"
      ]
     },
     "metadata": {},
     "output_type": "display_data"
    }
   ],
   "source": [
    "rougher_feed_min = rougher[rougher['rougher.input.feed_au'] != 0]['rougher.input.feed_au'].quantile(0.025)\n",
    "rougher_feed_max = rougher[rougher['rougher.input.feed_au'] != 0]['rougher.input.feed_au'].quantile(0.975)\n",
    "display(\n",
    "'Нижняя граница доверительного интервала содержания золота в сырье равна {:.0f}'.format(rougher_feed_min),\n",
    "'Верхняя граница доверительного интервала содержания золота в сырье равна {:.0f}'.format(rougher_feed_max))"
   ]
  },
  {
   "cell_type": "code",
   "execution_count": 17,
   "metadata": {},
   "outputs": [],
   "source": [
    "rougher = rougher[(rougher['rougher.input.feed_au'] >= rougher_feed_min) & \n",
    "                  (rougher['rougher.input.feed_au'] <= rougher_feed_max)]"
   ]
  },
  {
   "cell_type": "markdown",
   "metadata": {},
   "source": [
    "Подготовим функицю для расчета эффективности очистки"
   ]
  },
  {
   "cell_type": "code",
   "execution_count": 18,
   "metadata": {},
   "outputs": [],
   "source": [
    "def recovery_calc(row):\n",
    "    feed = row['feed']\n",
    "    tail = row['tail']\n",
    "    concentrate = row['concentrate']\n",
    "    if  tail < feed and tail < concentrate and concentrate > feed:\n",
    "        recovery = (1 - tail/feed)*(1 - tail/concentrate)*100\n",
    "    else:\n",
    "        recovery = None\n",
    "    return recovery"
   ]
  },
  {
   "cell_type": "markdown",
   "metadata": {},
   "source": [
    "Выделим данные необходимые для расчета эффективности и проведем его"
   ]
  },
  {
   "cell_type": "code",
   "execution_count": 19,
   "metadata": {
    "scrolled": true
   },
   "outputs": [
    {
     "name": "stdout",
     "output_type": "stream",
     "text": [
      "<class 'pandas.core.frame.DataFrame'>\n",
      "Int64Index: 17201 entries, 0 to 22712\n",
      "Data columns (total 5 columns):\n",
      "feed                       17201 non-null float64\n",
      "tail                       17201 non-null float64\n",
      "concentrate                17201 non-null float64\n",
      "calculated                 17201 non-null float64\n",
      "rougher.output.recovery    17201 non-null float64\n",
      "dtypes: float64(5)\n",
      "memory usage: 806.3 KB\n"
     ]
    },
    {
     "data": {
      "text/html": [
       "<div>\n",
       "<style scoped>\n",
       "    .dataframe tbody tr th:only-of-type {\n",
       "        vertical-align: middle;\n",
       "    }\n",
       "\n",
       "    .dataframe tbody tr th {\n",
       "        vertical-align: top;\n",
       "    }\n",
       "\n",
       "    .dataframe thead th {\n",
       "        text-align: right;\n",
       "    }\n",
       "</style>\n",
       "<table border=\"1\" class=\"dataframe\">\n",
       "  <thead>\n",
       "    <tr style=\"text-align: right;\">\n",
       "      <th></th>\n",
       "      <th>feed</th>\n",
       "      <th>tail</th>\n",
       "      <th>concentrate</th>\n",
       "      <th>calculated</th>\n",
       "      <th>rougher.output.recovery</th>\n",
       "    </tr>\n",
       "  </thead>\n",
       "  <tbody>\n",
       "    <tr>\n",
       "      <td>0</td>\n",
       "      <td>6.486150</td>\n",
       "      <td>1.170244</td>\n",
       "      <td>19.793808</td>\n",
       "      <td>77.112316</td>\n",
       "      <td>87.107763</td>\n",
       "    </tr>\n",
       "    <tr>\n",
       "      <td>1</td>\n",
       "      <td>6.478583</td>\n",
       "      <td>1.184827</td>\n",
       "      <td>20.050975</td>\n",
       "      <td>76.883223</td>\n",
       "      <td>86.843261</td>\n",
       "    </tr>\n",
       "    <tr>\n",
       "      <td>2</td>\n",
       "      <td>6.362222</td>\n",
       "      <td>1.162562</td>\n",
       "      <td>19.737170</td>\n",
       "      <td>76.913206</td>\n",
       "      <td>86.842308</td>\n",
       "    </tr>\n",
       "    <tr>\n",
       "      <td>3</td>\n",
       "      <td>6.118189</td>\n",
       "      <td>1.079755</td>\n",
       "      <td>19.320810</td>\n",
       "      <td>77.749457</td>\n",
       "      <td>87.226430</td>\n",
       "    </tr>\n",
       "    <tr>\n",
       "      <td>4</td>\n",
       "      <td>5.663707</td>\n",
       "      <td>1.012642</td>\n",
       "      <td>19.216101</td>\n",
       "      <td>77.792951</td>\n",
       "      <td>86.688794</td>\n",
       "    </tr>\n",
       "  </tbody>\n",
       "</table>\n",
       "</div>"
      ],
      "text/plain": [
       "       feed      tail  concentrate  calculated  rougher.output.recovery\n",
       "0  6.486150  1.170244    19.793808   77.112316                87.107763\n",
       "1  6.478583  1.184827    20.050975   76.883223                86.843261\n",
       "2  6.362222  1.162562    19.737170   76.913206                86.842308\n",
       "3  6.118189  1.079755    19.320810   77.749457                87.226430\n",
       "4  5.663707  1.012642    19.216101   77.792951                86.688794"
      ]
     },
     "metadata": {},
     "output_type": "display_data"
    },
    {
     "data": {
      "text/plain": [
       "None"
      ]
     },
     "metadata": {},
     "output_type": "display_data"
    }
   ],
   "source": [
    "rougher_recovery = pd.DataFrame()\n",
    "rougher_recovery['feed'] = rougher['rougher.input.feed_au']\n",
    "rougher_recovery['tail'] = rougher['rougher.output.tail_au']\n",
    "rougher_recovery['concentrate'] = rougher['rougher.output.concentrate_au']\n",
    "rougher_recovery['calculated'] = rougher_recovery.apply(recovery_calc,axis=1)\n",
    "rougher_recovery = rougher_recovery.join(full['rougher.output.recovery']).dropna()\n",
    "display(rougher_recovery.head(),rougher_recovery.info())"
   ]
  },
  {
   "cell_type": "code",
   "execution_count": 20,
   "metadata": {
    "scrolled": true
   },
   "outputs": [
    {
     "data": {
      "text/plain": [
       "'Срендняя эффективность черновой очистки золота равна 71'"
      ]
     },
     "metadata": {},
     "output_type": "display_data"
    },
    {
     "data": {
      "text/plain": [
       "'Медианная эффективность черновой очистки золота равна 71'"
      ]
     },
     "metadata": {},
     "output_type": "display_data"
    },
    {
     "data": {
      "image/png": "[encoded data removed]",
      "text/plain": [
       "<Figure size 432x288 with 1 Axes>"
      ]
     },
     "metadata": {
      "needs_background": "light"
     },
     "output_type": "display_data"
    }
   ],
   "source": [
    "rougher_recovery_mean = rougher_recovery['calculated'].mean()\n",
    "rougher_recovery_median = rougher_recovery['calculated'].median()\n",
    "display('Срендняя эффективность черновой очистки золота равна {:.0f}'.format(rougher_recovery_mean),\n",
    "        'Медианная эффективность черновой очистки золота равна {:.0f}'.format(rougher_recovery_median))\n",
    "sns.distplot(rougher_recovery['calculated'])\n",
    "plt.xlabel('Эффективность черновой очистки золота')\n",
    "plt.show()"
   ]
  },
  {
   "cell_type": "code",
   "execution_count": 21,
   "metadata": {
    "scrolled": true
   },
   "outputs": [
    {
     "data": {
      "text/plain": [
       "'Нижняя граница доверительного интервала эффективности черновой очистки золота равна 51'"
      ]
     },
     "metadata": {},
     "output_type": "display_data"
    },
    {
     "data": {
      "text/plain": [
       "'Верхняя граница доверительного интервала эффективности черновой очистки золота равна 88'"
      ]
     },
     "metadata": {},
     "output_type": "display_data"
    }
   ],
   "source": [
    "rougher_recovery_min = rougher_recovery['calculated'].quantile(0.025)\n",
    "rougher_recovery_max = rougher_recovery['calculated'].quantile(0.975)\n",
    "display('Нижняя граница доверительного интервала эффективности черновой очистки золота равна {:.0f}'.\n",
    "        format(rougher_recovery_min),\n",
    "       'Верхняя граница доверительного интервала эффективности черновой очистки золота равна {:.0f}'.\n",
    "        format(rougher_recovery_max))"
   ]
  },
  {
   "cell_type": "markdown",
   "metadata": {},
   "source": [
    "Посмотрим, на сколько отличаются новые значения эффективности от старых. Расчитаем среднеквадратичную ошибку между старыми и новыми значениями"
   ]
  },
  {
   "cell_type": "code",
   "execution_count": 22,
   "metadata": {
    "scrolled": false
   },
   "outputs": [
    {
     "name": "stdout",
     "output_type": "stream",
     "text": [
      "14.25578145608741\n"
     ]
    }
   ],
   "source": [
    "recovery_droped = rougher_recovery.dropna()\n",
    "mae = mean_absolute_error(recovery_droped['calculated'],recovery_droped['rougher.output.recovery'])\n",
    "print(mae)"
   ]
  },
  {
   "cell_type": "markdown",
   "metadata": {},
   "source": [
    "Выделим признаки и проведем их масштабирование"
   ]
  },
  {
   "cell_type": "code",
   "execution_count": 23,
   "metadata": {},
   "outputs": [],
   "source": [
    "scaler = StandardScaler()\n",
    "rougher['recovery'] = rougher_recovery['calculated']\n",
    "rougher.dropna(inplace=True)\n",
    "rougher_features = rougher.drop(['rougher.output.tail_au',\n",
    "                                 'rougher.output.concentrate_au',\n",
    "                                'recovery'],axis=1)\n",
    "rougher_features[rougher_features.columns] = scaler.fit_transform(rougher_features[rougher_features.columns])"
   ]
  },
  {
   "cell_type": "markdown",
   "metadata": {},
   "source": [
    "Сформируем целевой признак - эффективность черновой очистки золота"
   ]
  },
  {
   "cell_type": "code",
   "execution_count": 24,
   "metadata": {},
   "outputs": [],
   "source": [
    "rougher_target = rougher_recovery['calculated']"
   ]
  },
  {
   "cell_type": "markdown",
   "metadata": {},
   "source": [
    "### 1.3.3 Подготовим данные для расчета конечного концентрата"
   ]
  },
  {
   "cell_type": "markdown",
   "metadata": {},
   "source": [
    "Проведем процедуры описанные выше для подготовки данных о конечной очистке. Основные признаки уже подготовлены в тестовой выборке куда необходимо добавить только данные об окончательных отвалах и концентрате золота."
   ]
  },
  {
   "cell_type": "code",
   "execution_count": 25,
   "metadata": {
    "scrolled": true
   },
   "outputs": [],
   "source": [
    "final = full.drop(test_droped.columns, axis=1).drop('date', axis=1)\n",
    "final['tail'] = full['final.output.tail_au']\n",
    "final['concentrate'] = full['final.output.concentrate_au']\n",
    "final = final.dropna(subset = ['rougher.input.feed_ag',\n",
    "                               'rougher.input.feed_pb',\n",
    "                               'rougher.input.feed_rate',\n",
    "                               'rougher.input.feed_size',\n",
    "                               'rougher.input.feed_sol',\n",
    "                               'rougher.input.feed_au',\n",
    "                               'tail','concentrate'])\n",
    "final = nan_filler(final)"
   ]
  },
  {
   "cell_type": "markdown",
   "metadata": {},
   "source": [
    "Расчитаем окончательную эффективность очистки золота"
   ]
  },
  {
   "cell_type": "code",
   "execution_count": 26,
   "metadata": {
    "scrolled": true
   },
   "outputs": [
    {
     "name": "stdout",
     "output_type": "stream",
     "text": [
      "<class 'pandas.core.frame.DataFrame'>\n",
      "Int64Index: 18717 entries, 0 to 22715\n",
      "Data columns (total 5 columns):\n",
      "feed                     18717 non-null float64\n",
      "tail                     18717 non-null float64\n",
      "concentrate              18717 non-null float64\n",
      "calculated               18717 non-null float64\n",
      "final.output.recovery    18717 non-null float64\n",
      "dtypes: float64(5)\n",
      "memory usage: 877.4 KB\n"
     ]
    },
    {
     "data": {
      "text/html": [
       "<div>\n",
       "<style scoped>\n",
       "    .dataframe tbody tr th:only-of-type {\n",
       "        vertical-align: middle;\n",
       "    }\n",
       "\n",
       "    .dataframe tbody tr th {\n",
       "        vertical-align: top;\n",
       "    }\n",
       "\n",
       "    .dataframe thead th {\n",
       "        text-align: right;\n",
       "    }\n",
       "</style>\n",
       "<table border=\"1\" class=\"dataframe\">\n",
       "  <thead>\n",
       "    <tr style=\"text-align: right;\">\n",
       "      <th></th>\n",
       "      <th>feed</th>\n",
       "      <th>tail</th>\n",
       "      <th>concentrate</th>\n",
       "      <th>calculated</th>\n",
       "      <th>final.output.recovery</th>\n",
       "    </tr>\n",
       "  </thead>\n",
       "  <tbody>\n",
       "    <tr>\n",
       "      <td>0</td>\n",
       "      <td>6.486150</td>\n",
       "      <td>2.143149</td>\n",
       "      <td>42.192020</td>\n",
       "      <td>63.556921</td>\n",
       "      <td>70.541216</td>\n",
       "    </tr>\n",
       "    <tr>\n",
       "      <td>1</td>\n",
       "      <td>6.478583</td>\n",
       "      <td>2.224930</td>\n",
       "      <td>42.701629</td>\n",
       "      <td>62.236137</td>\n",
       "      <td>69.266198</td>\n",
       "    </tr>\n",
       "    <tr>\n",
       "      <td>2</td>\n",
       "      <td>6.362222</td>\n",
       "      <td>2.257889</td>\n",
       "      <td>42.657501</td>\n",
       "      <td>61.096389</td>\n",
       "      <td>68.116445</td>\n",
       "    </tr>\n",
       "    <tr>\n",
       "      <td>3</td>\n",
       "      <td>6.118189</td>\n",
       "      <td>2.146849</td>\n",
       "      <td>42.689819</td>\n",
       "      <td>61.646069</td>\n",
       "      <td>68.347543</td>\n",
       "    </tr>\n",
       "    <tr>\n",
       "      <td>4</td>\n",
       "      <td>5.663707</td>\n",
       "      <td>2.055292</td>\n",
       "      <td>42.774141</td>\n",
       "      <td>60.649866</td>\n",
       "      <td>66.927016</td>\n",
       "    </tr>\n",
       "  </tbody>\n",
       "</table>\n",
       "</div>"
      ],
      "text/plain": [
       "       feed      tail  concentrate  calculated  final.output.recovery\n",
       "0  6.486150  2.143149    42.192020   63.556921              70.541216\n",
       "1  6.478583  2.224930    42.701629   62.236137              69.266198\n",
       "2  6.362222  2.257889    42.657501   61.096389              68.116445\n",
       "3  6.118189  2.146849    42.689819   61.646069              68.347543\n",
       "4  5.663707  2.055292    42.774141   60.649866              66.927016"
      ]
     },
     "metadata": {},
     "output_type": "display_data"
    },
    {
     "data": {
      "text/plain": [
       "None"
      ]
     },
     "metadata": {},
     "output_type": "display_data"
    }
   ],
   "source": [
    "final_recovery = pd.DataFrame()\n",
    "final_recovery['feed'] = final['rougher.input.feed_au']\n",
    "final_recovery['tail'] = final['tail']\n",
    "final_recovery['concentrate'] = final['concentrate']\n",
    "final_recovery['calculated'] = final_recovery.apply(recovery_calc,axis=1)\n",
    "final_recovery = final_recovery.join(full['final.output.recovery']).dropna()\n",
    "display(final_recovery.head(),final_recovery.info())"
   ]
  },
  {
   "cell_type": "code",
   "execution_count": 27,
   "metadata": {},
   "outputs": [
    {
     "data": {
      "text/plain": [
       "'Средняя эффективность окончательной очистки золота равна 58'"
      ]
     },
     "metadata": {},
     "output_type": "display_data"
    },
    {
     "data": {
      "text/plain": [
       "'Медианная эффективность окончательной очистки золота равна 59'"
      ]
     },
     "metadata": {},
     "output_type": "display_data"
    },
    {
     "data": {
      "image/png": "[encoded data removed]",
      "text/plain": [
       "<Figure size 432x288 with 1 Axes>"
      ]
     },
     "metadata": {
      "needs_background": "light"
     },
     "output_type": "display_data"
    }
   ],
   "source": [
    "final_recovery_mean = final_recovery['calculated'].mean()\n",
    "final_recovery_median = final_recovery['calculated'].median()\n",
    "display('Средняя эффективность окончательной очистки золота равна {:.0f}'.format(final_recovery_mean),\n",
    "        'Медианная эффективность окончательной очистки золота равна {:.0f}'.format(final_recovery_median))\n",
    "sns.distplot(final_recovery['calculated'], hist_kws = {'label':'final'})\n",
    "sns.distplot(rougher_recovery['calculated'], hist_kws = {'label':'rougher'})\n",
    "plt.legend()\n",
    "plt.xlabel('Эффективность очистки золота')\n",
    "plt.show()"
   ]
  },
  {
   "cell_type": "markdown",
   "metadata": {},
   "source": [
    "На распределении эффективности окончательной очистки золота наблюдается аномальное значение 100%, наиболее вероятно возникающее при нулевой концентрации золота в отвалах. Такое значение вероятно неестественное и соответствует сбою системы регистрации. Найдем такие значения и удалим."
   ]
  },
  {
   "cell_type": "code",
   "execution_count": 28,
   "metadata": {},
   "outputs": [
    {
     "data": {
      "text/html": [
       "<div>\n",
       "<style scoped>\n",
       "    .dataframe tbody tr th:only-of-type {\n",
       "        vertical-align: middle;\n",
       "    }\n",
       "\n",
       "    .dataframe tbody tr th {\n",
       "        vertical-align: top;\n",
       "    }\n",
       "\n",
       "    .dataframe thead th {\n",
       "        text-align: right;\n",
       "    }\n",
       "</style>\n",
       "<table border=\"1\" class=\"dataframe\">\n",
       "  <thead>\n",
       "    <tr style=\"text-align: right;\">\n",
       "      <th></th>\n",
       "      <th>feed</th>\n",
       "      <th>tail</th>\n",
       "      <th>concentrate</th>\n",
       "      <th>calculated</th>\n",
       "      <th>final.output.recovery</th>\n",
       "    </tr>\n",
       "  </thead>\n",
       "  <tbody>\n",
       "    <tr>\n",
       "      <td>77</td>\n",
       "      <td>7.121792</td>\n",
       "      <td>0.0</td>\n",
       "      <td>46.543285</td>\n",
       "      <td>100.0</td>\n",
       "      <td>100.0</td>\n",
       "    </tr>\n",
       "    <tr>\n",
       "      <td>358</td>\n",
       "      <td>0.413390</td>\n",
       "      <td>0.0</td>\n",
       "      <td>21.885095</td>\n",
       "      <td>100.0</td>\n",
       "      <td>100.0</td>\n",
       "    </tr>\n",
       "    <tr>\n",
       "      <td>2315</td>\n",
       "      <td>6.785848</td>\n",
       "      <td>0.0</td>\n",
       "      <td>25.773495</td>\n",
       "      <td>100.0</td>\n",
       "      <td>100.0</td>\n",
       "    </tr>\n",
       "    <tr>\n",
       "      <td>2326</td>\n",
       "      <td>7.395918</td>\n",
       "      <td>0.0</td>\n",
       "      <td>42.984047</td>\n",
       "      <td>100.0</td>\n",
       "      <td>100.0</td>\n",
       "    </tr>\n",
       "    <tr>\n",
       "      <td>4682</td>\n",
       "      <td>8.207124</td>\n",
       "      <td>0.0</td>\n",
       "      <td>40.472468</td>\n",
       "      <td>100.0</td>\n",
       "      <td>100.0</td>\n",
       "    </tr>\n",
       "  </tbody>\n",
       "</table>\n",
       "</div>"
      ],
      "text/plain": [
       "          feed  tail  concentrate  calculated  final.output.recovery\n",
       "77    7.121792   0.0    46.543285       100.0                  100.0\n",
       "358   0.413390   0.0    21.885095       100.0                  100.0\n",
       "2315  6.785848   0.0    25.773495       100.0                  100.0\n",
       "2326  7.395918   0.0    42.984047       100.0                  100.0\n",
       "4682  8.207124   0.0    40.472468       100.0                  100.0"
      ]
     },
     "execution_count": 28,
     "metadata": {},
     "output_type": "execute_result"
    }
   ],
   "source": [
    "final_recovery.query('tail == 0').head()"
   ]
  },
  {
   "cell_type": "code",
   "execution_count": 29,
   "metadata": {},
   "outputs": [],
   "source": [
    "final_recovery = final_recovery.query('tail != 0')"
   ]
  },
  {
   "cell_type": "markdown",
   "metadata": {},
   "source": [
    "Выделим признаки окончательного процесса очистки золота и масштабируем их."
   ]
  },
  {
   "cell_type": "code",
   "execution_count": 30,
   "metadata": {},
   "outputs": [],
   "source": [
    "final['recovery'] = final_recovery['calculated']\n",
    "final.dropna(inplace=True)\n",
    "final_features = final.drop(['tail','concentrate','recovery'],axis=1)\n",
    "final_features[final_features.columns] = scaler.fit_transform(final_features[final_features.columns])"
   ]
  },
  {
   "cell_type": "markdown",
   "metadata": {},
   "source": [
    "Сформируем целевой признак - эффективность окончательной очистки золота"
   ]
  },
  {
   "cell_type": "code",
   "execution_count": 31,
   "metadata": {},
   "outputs": [],
   "source": [
    "final_target = final_recovery['calculated']"
   ]
  },
  {
   "cell_type": "markdown",
   "metadata": {},
   "source": [
    "# Выводы по подготовке данных к машинному обучению"
   ]
  },
  {
   "cell_type": "markdown",
   "metadata": {},
   "source": [
    "Представленные данные содержат дату и время цикла очистки, входные характеристики сырья, выходные характеристики отвалов и материала после очистки, параметры системы очистки, значения эффективности очистки после черновой и окончательной стадии, а так же расчетные соотношения между количеством реагентов и концентрацией золота в продукте. \n",
    "\n",
    "Часть данных, такие как дата и время цикла очистки, концентрации сопутствующих элементов (Ag, Pb, sol) в отвалах и конечном продукте, расчетные соотношения между количеством реагентов и концентрацией золота в продукте являются лишними для машинного обучения. Другие: концентрация золота в отвалах или конечном продукте требуется только для расчета эффективности очистки.\n",
    "\n",
    "Представленные данные содержат пропуски, которые видимо связаны со сбоем измерительного оборудования. Пропуски данных в концентрации элементов не заполняем, т.к. это характеристики специфические и здесь легко ошибиться. Пропуски в параметрах системы очистки заполняем предыдущим или последующим значением, но не более одного подряд.\n",
    "\n",
    "Скорректированы данные по диапазону концентрации золота в сырье. Удалены нулевые значения, а доверительный 95% интервал составил от 5 до 12.\n",
    "\n",
    "Проверка формулы расчета эффективности очистки показала грубую ошибку, завышающую эффективность очистки при одинаковых концентрациях в отвалах и конечном продукте. Предложена новая формула (1-T/F)(1-T/C)."
   ]
  },
  {
   "cell_type": "markdown",
   "metadata": {},
   "source": [
    "# 2. Анализ данных"
   ]
  },
  {
   "cell_type": "markdown",
   "metadata": {},
   "source": [
    "## 2.1 Изменение концентрации металлов на разных этапах очистки"
   ]
  },
  {
   "cell_type": "markdown",
   "metadata": {},
   "source": [
    "### 2.1.1 Изменение концентрации серебра на разных этапах очистки"
   ]
  },
  {
   "cell_type": "code",
   "execution_count": 32,
   "metadata": {},
   "outputs": [],
   "source": [
    "ag = pd.DataFrame()\n",
    "ag['feed'] = full['rougher.input.feed_ag']\n",
    "ag['rougher_output'] = full['rougher.output.concentrate_ag']\n",
    "ag['primary_output'] = full['primary_cleaner.output.concentrate_ag']\n",
    "ag['final_output'] = full['final.output.concentrate_ag']\n",
    "ag.dropna(inplace=True)"
   ]
  },
  {
   "cell_type": "code",
   "execution_count": 33,
   "metadata": {
    "scrolled": true
   },
   "outputs": [
    {
     "data": {
      "image/png": "[encoded data removed]",
      "text/plain": [
       "<Figure size 432x288 with 1 Axes>"
      ]
     },
     "metadata": {
      "needs_background": "light"
     },
     "output_type": "display_data"
    }
   ],
   "source": [
    "sns.distplot(ag['feed'], hist_kws={'label':'feed'})\n",
    "sns.distplot(ag['rougher_output'], hist_kws={'label':'rougher'})\n",
    "sns.distplot(ag['primary_output'], hist_kws={'label':'primary'})\n",
    "sns.distplot(ag['final_output'], hist_kws={'label':'final'})\n",
    "plt.legend()\n",
    "plt.xlabel('Концетрация серебра')\n",
    "plt.show()"
   ]
  },
  {
   "cell_type": "markdown",
   "metadata": {},
   "source": [
    "Видно, что после этапа черновой очистки золота концентрация серебра в продукте увеличилась. На снижение содержания серебра в продукте направлены первичная и вторичная системы очистки."
   ]
  },
  {
   "cell_type": "markdown",
   "metadata": {},
   "source": [
    "### 2.1.2 Изменение концентрации свинца на разных этапах очистки"
   ]
  },
  {
   "cell_type": "code",
   "execution_count": 34,
   "metadata": {},
   "outputs": [],
   "source": [
    "pb = pd.DataFrame()\n",
    "pb['feed'] = full['rougher.input.feed_pb']\n",
    "pb['rougher_output'] = full['rougher.output.concentrate_pb']\n",
    "pb['primary_output'] = full['primary_cleaner.output.concentrate_pb']\n",
    "pb['final_output'] = full['final.output.concentrate_pb']\n",
    "pb.dropna(inplace=True)"
   ]
  },
  {
   "cell_type": "code",
   "execution_count": 35,
   "metadata": {
    "scrolled": false
   },
   "outputs": [
    {
     "data": {
      "image/png": "[encoded data removed]",
      "text/plain": [
       "<Figure size 432x288 with 1 Axes>"
      ]
     },
     "metadata": {
      "needs_background": "light"
     },
     "output_type": "display_data"
    }
   ],
   "source": [
    "sns.distplot(pb['feed'], hist_kws={'label':'feed'})\n",
    "sns.distplot(pb['rougher_output'], hist_kws={'label':'rougher'})\n",
    "sns.distplot(pb['primary_output'], hist_kws={'label':'primary'})\n",
    "sns.distplot(pb['final_output'], hist_kws={'label':'final'})\n",
    "plt.legend()\n",
    "plt.xlabel('Концетрация свинца')\n",
    "plt.show()"
   ]
  },
  {
   "cell_type": "markdown",
   "metadata": {},
   "source": [
    "Свинец наиболее близок по массе к золоту, поэтому неудивительно, что концентрация свинца в продукте почти не падает даже после этапа вторичной очистки."
   ]
  },
  {
   "cell_type": "markdown",
   "metadata": {},
   "source": [
    "### 2.1.3 Изменение концентрации золей на разных этапах очистки"
   ]
  },
  {
   "cell_type": "code",
   "execution_count": 36,
   "metadata": {},
   "outputs": [],
   "source": [
    "sol = pd.DataFrame()\n",
    "sol['feed'] = full['rougher.input.feed_sol']\n",
    "sol['rougher_output'] = full['rougher.output.concentrate_sol']\n",
    "sol['primary_output'] = full['primary_cleaner.output.concentrate_sol']\n",
    "sol['final_output'] = full['final.output.concentrate_sol']\n",
    "sol.dropna(inplace=True)"
   ]
  },
  {
   "cell_type": "code",
   "execution_count": 37,
   "metadata": {
    "scrolled": false
   },
   "outputs": [
    {
     "data": {
      "image/png": "[encoded data removed]",
      "text/plain": [
       "<Figure size 432x288 with 1 Axes>"
      ]
     },
     "metadata": {
      "needs_background": "light"
     },
     "output_type": "display_data"
    }
   ],
   "source": [
    "sns.distplot(sol['feed'], hist_kws={'label':'feed'})\n",
    "sns.distplot(sol['rougher_output'], hist_kws={'label':'rougher'})\n",
    "sns.distplot(sol['primary_output'], hist_kws={'label':'primary'})\n",
    "sns.distplot(sol['final_output'], hist_kws={'label':'final'})\n",
    "plt.legend()\n",
    "plt.xlabel('Концетрация золей')\n",
    "plt.show()"
   ]
  },
  {
   "cell_type": "markdown",
   "metadata": {},
   "source": [
    "Все остальные примеси достаточно хорошо выделяются из объема продукта. Их концентрация снижается на всех этапах очистки. "
   ]
  },
  {
   "cell_type": "markdown",
   "metadata": {},
   "source": [
    "### 2.1.3 Изменение концентрации золота на разных этапах очистки"
   ]
  },
  {
   "cell_type": "code",
   "execution_count": 38,
   "metadata": {},
   "outputs": [],
   "source": [
    "au = pd.DataFrame()\n",
    "au['feed'] = full['rougher.input.feed_au']\n",
    "au['rougher_output'] = full['rougher.output.concentrate_au']\n",
    "au['primary_output'] = full['primary_cleaner.output.concentrate_au']\n",
    "au['final_output'] = full['final.output.concentrate_au']\n",
    "au.dropna(inplace=True)"
   ]
  },
  {
   "cell_type": "code",
   "execution_count": 39,
   "metadata": {
    "scrolled": false
   },
   "outputs": [
    {
     "data": {
      "image/png": "[encoded data removed]",
      "text/plain": [
       "<Figure size 432x288 with 1 Axes>"
      ]
     },
     "metadata": {
      "needs_background": "light"
     },
     "output_type": "display_data"
    }
   ],
   "source": [
    "sns.distplot(au['feed'], hist_kws={'label':'feed'})\n",
    "sns.distplot(au['rougher_output'], hist_kws={'label':'rougher'})\n",
    "sns.distplot(au['primary_output'], hist_kws={'label':'primary'})\n",
    "sns.distplot(au['final_output'], hist_kws={'label':'final'})\n",
    "plt.legend()\n",
    "plt.xlabel('Концетрация золота')\n",
    "plt.show()"
   ]
  },
  {
   "cell_type": "markdown",
   "metadata": {},
   "source": [
    "### Выводы\n",
    "На основании приведенных выше распределений можно предположить следующие стадии очистки:\n",
    "1. на этапе черновой очистки удаляются примеси типа золей;\n",
    "2. на первичном этапе производится очистка продукта от серебра;\n",
    "3. на вторичном этапе производится очистка продукта от свинца."
   ]
  },
  {
   "cell_type": "markdown",
   "metadata": {},
   "source": [
    "## 2.2 Изменение суммарной концентрации веществ на разных этапах очистки"
   ]
  },
  {
   "cell_type": "markdown",
   "metadata": {},
   "source": [
    "Как мы видели выше: в данных о концентрации элементов присутствуют нулевые значения. Посмотрим появляются эти значения одновременно для всех элементов или система очистки работает настолько хорошо, что полностью удаляет отдельные примеси. Явлются ли такие значения особенностью сырья, или это сбой регистрирующего оборудования.\n",
    "\n",
    "Построим четыре распределения соответствующие суммарной концентрации основных элементов серебра, свинца и золота в сырье, и на всех этапах очистки."
   ]
  },
  {
   "cell_type": "code",
   "execution_count": 40,
   "metadata": {},
   "outputs": [],
   "source": [
    "elements = full[['rougher.input.feed_au',\n",
    "                 'rougher.input.feed_ag',\n",
    "                 'rougher.input.feed_pb',\n",
    "                 'rougher.output.concentrate_au',\n",
    "                 'rougher.output.concentrate_ag',\n",
    "                 'rougher.output.concentrate_pb',\n",
    "                 'primary_cleaner.output.concentrate_au',\n",
    "                 'primary_cleaner.output.concentrate_ag',\n",
    "                 'primary_cleaner.output.concentrate_pb',\n",
    "                 'final.output.concentrate_au',\n",
    "                 'final.output.concentrate_ag',\n",
    "                 'final.output.concentrate_pb']].dropna()\n",
    "elements.columns = ['feed_au','feed_ag','feed_pb',\n",
    "                    'rougher_au','rougher_ag','rougher_pb',\n",
    "                    'primary_au','primary_ag','primary_pb',\n",
    "                    'final_au','final_ag','final_pb']\n",
    "elements['feed_total'] = elements['feed_au'] + elements['feed_ag'] + elements['feed_pb']\n",
    "elements['rougher_total'] = elements['rougher_au'] + elements['rougher_ag'] + elements['rougher_pb']\n",
    "elements['primary_total'] = elements['primary_au'] + elements['primary_ag'] + elements['primary_pb']\n",
    "elements['final_total'] = elements['final_au'] + elements['final_ag'] + elements['final_pb']"
   ]
  },
  {
   "cell_type": "code",
   "execution_count": 41,
   "metadata": {
    "scrolled": true
   },
   "outputs": [
    {
     "data": {
      "image/png": "[encoded data removed]",
      "text/plain": [
       "<Figure size 432x288 with 1 Axes>"
      ]
     },
     "metadata": {
      "needs_background": "light"
     },
     "output_type": "display_data"
    }
   ],
   "source": [
    "sns.distplot(elements['feed_total'], hist_kws={'label':'feed'})\n",
    "sns.distplot(elements['rougher_total'], hist_kws={'label':'rougher'})\n",
    "sns.distplot(elements['primary_total'], hist_kws={'label':'primary'})\n",
    "sns.distplot(elements['final_total'], hist_kws={'label':'final'})\n",
    "plt.legend()\n",
    "plt.xlabel('Суммарная концетрация элементов')\n",
    "plt.show()"
   ]
  },
  {
   "cell_type": "markdown",
   "metadata": {},
   "source": [
    "Видно, что на каждом этапе очистки есть аномальное значение соответствующее нулевой концентрации элементов."
   ]
  },
  {
   "cell_type": "code",
   "execution_count": 42,
   "metadata": {
    "scrolled": true
   },
   "outputs": [
    {
     "data": {
      "text/plain": [
       "feed_au             0.000000\n",
       "feed_ag             0.000000\n",
       "feed_pb             0.000000\n",
       "rougher_au        765.341615\n",
       "rougher_ag        490.789799\n",
       "rougher_pb        267.429187\n",
       "primary_au       2438.493253\n",
       "primary_ag        661.604088\n",
       "primary_pb        706.243927\n",
       "final_au         6185.530289\n",
       "final_ag          999.619529\n",
       "final_pb         1623.600656\n",
       "feed_total          0.000000\n",
       "rougher_total    1523.560602\n",
       "primary_total    3806.341269\n",
       "final_total      8808.750473\n",
       "dtype: float64"
      ]
     },
     "execution_count": 42,
     "metadata": {},
     "output_type": "execute_result"
    }
   ],
   "source": [
    "elements.query('feed_total == 0').sum()"
   ]
  },
  {
   "cell_type": "code",
   "execution_count": 43,
   "metadata": {
    "scrolled": true
   },
   "outputs": [
    {
     "data": {
      "text/plain": [
       "feed_au           3819.540512\n",
       "feed_ag           4065.807820\n",
       "feed_pb           1678.738262\n",
       "rougher_au           0.000000\n",
       "rougher_ag           0.000000\n",
       "rougher_pb           0.000000\n",
       "primary_au       15098.583945\n",
       "primary_ag        3728.493634\n",
       "primary_pb        4736.734454\n",
       "final_au         23173.647568\n",
       "final_ag          2848.507777\n",
       "final_pb          5329.302826\n",
       "feed_total        9564.086594\n",
       "rougher_total        0.000000\n",
       "primary_total    23563.812033\n",
       "final_total      31351.458172\n",
       "dtype: float64"
      ]
     },
     "execution_count": 43,
     "metadata": {},
     "output_type": "execute_result"
    }
   ],
   "source": [
    "elements.query('rougher_total == 0').sum()"
   ]
  },
  {
   "cell_type": "code",
   "execution_count": 44,
   "metadata": {
    "scrolled": true
   },
   "outputs": [
    {
     "data": {
      "text/plain": [
       "feed_au           1512.224099\n",
       "feed_ag           1628.139295\n",
       "feed_pb            686.372927\n",
       "rougher_au        3020.695145\n",
       "rougher_ag        1781.606107\n",
       "rougher_pb        1343.257939\n",
       "primary_au           0.000000\n",
       "primary_ag           0.000000\n",
       "primary_pb           0.000000\n",
       "final_au          8547.316536\n",
       "final_ag          1291.639636\n",
       "final_pb          2290.191700\n",
       "feed_total        3826.736321\n",
       "rougher_total     6145.559192\n",
       "primary_total        0.000000\n",
       "final_total      12129.147871\n",
       "dtype: float64"
      ]
     },
     "execution_count": 44,
     "metadata": {},
     "output_type": "execute_result"
    }
   ],
   "source": [
    "elements.query('primary_total == 0').sum()"
   ]
  },
  {
   "cell_type": "code",
   "execution_count": 45,
   "metadata": {
    "scrolled": false
   },
   "outputs": [
    {
     "data": {
      "text/plain": [
       "feed_au          1259.824579\n",
       "feed_ag          1313.960797\n",
       "feed_pb           545.662991\n",
       "rougher_au       2518.023906\n",
       "rougher_ag       1466.919214\n",
       "rougher_pb       1010.012156\n",
       "primary_au       2957.967374\n",
       "primary_ag        734.405671\n",
       "primary_pb        790.988294\n",
       "final_au            0.000000\n",
       "final_ag            0.000000\n",
       "final_pb            0.000000\n",
       "feed_total       3119.448367\n",
       "rougher_total    4994.955277\n",
       "primary_total    4483.361340\n",
       "final_total         0.000000\n",
       "dtype: float64"
      ]
     },
     "execution_count": 45,
     "metadata": {},
     "output_type": "execute_result"
    }
   ],
   "source": [
    "elements.query('final_total == 0').sum()"
   ]
  },
  {
   "cell_type": "markdown",
   "metadata": {},
   "source": [
    "Видимо, оба предположения имеют место. Часть выбросов связана с пустой породой, в другом случае содержание элементов пропадает на одном этапе, до и после содержание элементов присутствует. Обрабатывать данные аномалии не имеет смысла, так как их наличие уже учтено при расчете эффективности очистки."
   ]
  },
  {
   "cell_type": "markdown",
   "metadata": {},
   "source": [
    "## 2.3 Сравнение размеров гранул сырья в обучающей и тестовой выборках"
   ]
  },
  {
   "cell_type": "code",
   "execution_count": 46,
   "metadata": {
    "scrolled": true
   },
   "outputs": [
    {
     "data": {
      "image/png": "[encoded data removed]",
      "text/plain": [
       "<Figure size 432x288 with 1 Axes>"
      ]
     },
     "metadata": {
      "needs_background": "light"
     },
     "output_type": "display_data"
    },
    {
     "data": {
      "text/plain": [
       "'Средний размер гранул по обучающей выборке равен 59'"
      ]
     },
     "metadata": {},
     "output_type": "display_data"
    },
    {
     "data": {
      "text/plain": [
       "'Средний размер гранул по тестовой выборке равен 56'"
      ]
     },
     "metadata": {},
     "output_type": "display_data"
    }
   ],
   "source": [
    "feed_size_train = train['rougher.input.feed_size'].dropna()\n",
    "feed_size_test = test['rougher.input.feed_size'].dropna()\n",
    "sns.distplot(feed_size_train, hist_kws={'label':'train'})\n",
    "sns.distplot(feed_size_test, hist_kws={'label':'test'})\n",
    "plt.legend()\n",
    "plt.xlabel('Размер гранул сырья')\n",
    "plt.xlim(0,200)\n",
    "plt.show()\n",
    "display('Средний размер гранул по обучающей выборке равен {:.0f}'.format(feed_size_train.mean()),\n",
    "        'Средний размер гранул по тестовой выборке равен {:.0f}'.format(feed_size_test.mean()))"
   ]
  },
  {
   "cell_type": "markdown",
   "metadata": {},
   "source": [
    "Распределения гранул по обучающей и тестовой выборкам очень близки, a средние значения отличаются примерно на 5%. Проверим гипотезу:\n",
    "- средний размер гранул в обучающей и тестовой выборках одинаковый.\n",
    "\n",
    "Так как обе выборки сделаны из одного массива данных, считаем их родственными, а для сравнения применим технику бутстреп, выбирая из обучающей выборки куски размера тестовой выборки."
   ]
  },
  {
   "cell_type": "code",
   "execution_count": 47,
   "metadata": {},
   "outputs": [
    {
     "name": "stdout",
     "output_type": "stream",
     "text": [
      "Размер гранул в обучающей и тестовой выборках разный с вероятностью 100%\n"
     ]
    }
   ],
   "source": [
    "state = RandomState(12)\n",
    "count = 0 #количество случаев, когда размер гранул разный\n",
    "for i in range(1000):\n",
    "    feed_size_train_sample = feed_size_train.sample(n=len(feed_size_test), random_state = state)\n",
    "    feed_size_result = st.ttest_rel(feed_size_train_sample,feed_size_test)\n",
    "    if (feed_size_result.pvalue < 0.05):\n",
    "        count += 1\n",
    "print('Размер гранул в обучающей и тестовой выборках разный с вероятностью {:.0%}'.format(count/1000))"
   ]
  },
  {
   "cell_type": "markdown",
   "metadata": {},
   "source": [
    "Видимо разделение выборок на обучающую и тестовую было проведено некорректно. Разделим исходный датасет вручную и проверим в нем размер гранул."
   ]
  },
  {
   "cell_type": "code",
   "execution_count": 48,
   "metadata": {
    "scrolled": true
   },
   "outputs": [
    {
     "data": {
      "image/png": "[encoded data removed]",
      "text/plain": [
       "<Figure size 432x288 with 1 Axes>"
      ]
     },
     "metadata": {
      "needs_background": "light"
     },
     "output_type": "display_data"
    },
    {
     "data": {
      "text/plain": [
       "'Средний размер гранул по обучающей выборке равен 58'"
      ]
     },
     "metadata": {},
     "output_type": "display_data"
    },
    {
     "data": {
      "text/plain": [
       "'Средний размер гранул по тестовой выборке равен 58'"
      ]
     },
     "metadata": {},
     "output_type": "display_data"
    }
   ],
   "source": [
    "new_train, new_test = train_test_split(full,test_size=0.25,random_state=1)\n",
    "feed_size_train = new_train['rougher.input.feed_size'].dropna()\n",
    "feed_size_test = new_test['rougher.input.feed_size'].dropna()\n",
    "sns.distplot(feed_size_train, hist_kws={'label':'train'})\n",
    "sns.distplot(feed_size_test, hist_kws={'label':'test'})\n",
    "plt.legend()\n",
    "plt.xlabel('Размер гранул сырья')\n",
    "plt.xlim(0,200)\n",
    "plt.show()\n",
    "display('Средний размер гранул по обучающей выборке равен {:.0f}'.format(feed_size_train.mean()),\n",
    "        'Средний размер гранул по тестовой выборке равен {:.0f}'.format(feed_size_test.mean()))"
   ]
  },
  {
   "cell_type": "code",
   "execution_count": 49,
   "metadata": {
    "scrolled": true
   },
   "outputs": [
    {
     "name": "stdout",
     "output_type": "stream",
     "text": [
      "Размер гранул в обучающей и тестовой выборках разный с вероятностью 0%\n"
     ]
    }
   ],
   "source": [
    "count = 0\n",
    "for i in range(1000):\n",
    "    feed_size_train_sample = feed_size_train.sample(n=len(feed_size_test), random_state = state)\n",
    "    feed_size_result = st.ttest_rel(feed_size_train_sample,feed_size_test)\n",
    "    if (feed_size_result.pvalue < 0.05):\n",
    "        count += 1\n",
    "print('Размер гранул в обучающей и тестовой выборках разный с вероятностью {:.0%}'.format(count/1000))"
   ]
  },
  {
   "cell_type": "markdown",
   "metadata": {},
   "source": [
    "Действительно в новых выборках размеры гранул совпадают. В представленных ранее данных разделение выборок было проведено не корректно."
   ]
  },
  {
   "cell_type": "markdown",
   "metadata": {},
   "source": [
    "# 3. Модель"
   ]
  },
  {
   "cell_type": "markdown",
   "metadata": {},
   "source": [
    "## 3.1 Функция для вычисления sMAPE"
   ]
  },
  {
   "cell_type": "markdown",
   "metadata": {},
   "source": [
    "Подготовим функцию оценки качества модели."
   ]
  },
  {
   "cell_type": "code",
   "execution_count": 50,
   "metadata": {},
   "outputs": [],
   "source": [
    "def smape(target,prediction):\n",
    "    return (abs(target - prediction)/((abs(target) + abs(prediction))/2)).mean()"
   ]
  },
  {
   "cell_type": "markdown",
   "metadata": {},
   "source": [
    "Подготовим на ее основе, функцию расчета итогового качества предсказания эффективности."
   ]
  },
  {
   "cell_type": "code",
   "execution_count": 51,
   "metadata": {},
   "outputs": [],
   "source": [
    "def smape_total(target25,prediction25,target75,prediction75):\n",
    "    return 0.25*smape(target25,prediction25) + 0.75*smape(target75,prediction75)"
   ]
  },
  {
   "cell_type": "markdown",
   "metadata": {},
   "source": [
    "Сформируем на основе полученной функции метрику качества модели"
   ]
  },
  {
   "cell_type": "code",
   "execution_count": 52,
   "metadata": {},
   "outputs": [],
   "source": [
    "smape_score = make_scorer(smape,greater_is_better=False)"
   ]
  },
  {
   "cell_type": "markdown",
   "metadata": {},
   "source": [
    "## 3.2 Обучение модели"
   ]
  },
  {
   "cell_type": "markdown",
   "metadata": {},
   "source": [
    "Выделим для моделей расчета черновой и конечной эффективности очистки обучающую и тестовую выборки."
   ]
  },
  {
   "cell_type": "code",
   "execution_count": 53,
   "metadata": {},
   "outputs": [],
   "source": [
    "(rougher_train_features, \n",
    " rougher_test_features, \n",
    " rougher_train_target,\n",
    " rougher_test_target) = train_test_split(rougher_features,\n",
    "                                         rougher_target,\n",
    "                                         test_size=0.25,random_state=1)"
   ]
  },
  {
   "cell_type": "code",
   "execution_count": 54,
   "metadata": {},
   "outputs": [],
   "source": [
    "(final_train_features, \n",
    " final_test_features,\n",
    " final_train_target,\n",
    " final_test_target) = train_test_split(final_features,\n",
    "                                       final_target,\n",
    "                                       test_size=0.25,random_state=1)"
   ]
  },
  {
   "cell_type": "markdown",
   "metadata": {},
   "source": [
    "Для моделирования выберем две модели: модель Решающего дерева и Случайного леса. Параметры моделей подберем с помощью функции RandomizedSearchCV. В качестве метрики поставим введенную выше smape_score."
   ]
  },
  {
   "cell_type": "code",
   "execution_count": 55,
   "metadata": {},
   "outputs": [],
   "source": [
    "tree = DecisionTreeRegressor(random_state=2)\n",
    "forest = RandomForestRegressor(bootstrap = False, random_state=4)\n",
    "params = {'max_depth':range(5,35),\n",
    "          'max_features':np.arange(0.1,1.1,0.1)}"
   ]
  },
  {
   "cell_type": "code",
   "execution_count": 56,
   "metadata": {
    "scrolled": true
   },
   "outputs": [
    {
     "name": "stdout",
     "output_type": "stream",
     "text": [
      "CPU times: user 6min 34s, sys: 311 ms, total: 6min 35s\n",
      "Wall time: 13min 2s\n"
     ]
    }
   ],
   "source": [
    "%%time\n",
    "iterations = 20\n",
    "model_stats = []\n",
    "for model in [tree,forest]:\n",
    "    rougher_search = RandomizedSearchCV(model,params,n_iter = iterations,scoring = smape_score)\n",
    "    final_search = RandomizedSearchCV(model,params,n_iter = iterations,scoring = smape_score)\n",
    "    rougher_model = rougher_search.fit(rougher_train_features,rougher_train_target)\n",
    "    rougher_predictions = rougher_model.predict(rougher_test_features)\n",
    "    final_model = final_search.fit(final_train_features,final_train_target)\n",
    "    final_predictions = final_model.predict(final_test_features)\n",
    "    score = smape_total(rougher_test_target,rougher_predictions,\n",
    "                        final_test_target,final_predictions)\n",
    "    model_stats.append([score,\n",
    "                        rougher_model.best_params_['max_depth'],\n",
    "                        rougher_model.best_params_['max_features'],\n",
    "                        final_model.best_params_['max_depth'],\n",
    "                        final_model.best_params_['max_features']])"
   ]
  },
  {
   "cell_type": "code",
   "execution_count": 57,
   "metadata": {
    "scrolled": false
   },
   "outputs": [
    {
     "data": {
      "text/html": [
       "<div>\n",
       "<style scoped>\n",
       "    .dataframe tbody tr th:only-of-type {\n",
       "        vertical-align: middle;\n",
       "    }\n",
       "\n",
       "    .dataframe tbody tr th {\n",
       "        vertical-align: top;\n",
       "    }\n",
       "\n",
       "    .dataframe thead th {\n",
       "        text-align: right;\n",
       "    }\n",
       "</style>\n",
       "<table border=\"1\" class=\"dataframe\">\n",
       "  <thead>\n",
       "    <tr style=\"text-align: right;\">\n",
       "      <th></th>\n",
       "      <th>smape</th>\n",
       "      <th>rougher_max_depth</th>\n",
       "      <th>rougher_max_features</th>\n",
       "      <th>final_max_depth</th>\n",
       "      <th>final_max_features</th>\n",
       "    </tr>\n",
       "  </thead>\n",
       "  <tbody>\n",
       "    <tr>\n",
       "      <td>tree</td>\n",
       "      <td>0.083039</td>\n",
       "      <td>10</td>\n",
       "      <td>0.6</td>\n",
       "      <td>10</td>\n",
       "      <td>0.5</td>\n",
       "    </tr>\n",
       "    <tr>\n",
       "      <td>forest</td>\n",
       "      <td>0.061683</td>\n",
       "      <td>31</td>\n",
       "      <td>0.5</td>\n",
       "      <td>34</td>\n",
       "      <td>0.3</td>\n",
       "    </tr>\n",
       "  </tbody>\n",
       "</table>\n",
       "</div>"
      ],
      "text/plain": [
       "           smape  rougher_max_depth  rougher_max_features  final_max_depth  \\\n",
       "tree    0.083039                 10                   0.6               10   \n",
       "forest  0.061683                 31                   0.5               34   \n",
       "\n",
       "        final_max_features  \n",
       "tree                   0.5  \n",
       "forest                 0.3  "
      ]
     },
     "metadata": {},
     "output_type": "display_data"
    }
   ],
   "source": [
    "model_stats = pd.DataFrame(model_stats,index=['tree','forest'],\n",
    "                           columns=['smape',\n",
    "                                    'rougher_max_depth',\n",
    "                                    'rougher_max_features',\n",
    "                                    'final_max_depth',\n",
    "                                    'final_max_features'])\n",
    "display(model_stats)"
   ]
  },
  {
   "cell_type": "markdown",
   "metadata": {},
   "source": [
    "Полученные значения метрики smape, для обоих моделей относительно не велики. Сравним их с метрикой константной модели, которая выдает среднее значение эффективности в любых условиях. Как было показано выше средннее и медианное значения эффективности приблизительно равны, поэтому в качестве уровня константной модели выберем среднее значение эффективности."
   ]
  },
  {
   "cell_type": "code",
   "execution_count": 58,
   "metadata": {},
   "outputs": [
    {
     "data": {
      "text/plain": [
       "'Величина smape для константной модели 0.11'"
      ]
     },
     "metadata": {},
     "output_type": "display_data"
    }
   ],
   "source": [
    "constant_rougher = pd.DataFrame()\n",
    "constant_rougher['target'] = rougher_target\n",
    "constant_rougher['prediction_mean'] = rougher_recovery_mean\n",
    "constant_final = pd.DataFrame()\n",
    "constant_final['target'] = final_target\n",
    "constant_final['prediction_mean'] = final_recovery_mean\n",
    "display('Величина smape для константной модели {:.2f}'.format(smape_total(\n",
    "        constant_rougher['target'],constant_rougher['prediction_mean'],\n",
    "        constant_final['target'],constant_final['prediction_mean'])))"
   ]
  },
  {
   "cell_type": "markdown",
   "metadata": {},
   "source": [
    "Для константной модели метрика так же не велика, но все же больше чем в случае Решающего дерева или Случайного леса."
   ]
  },
  {
   "cell_type": "markdown",
   "metadata": {},
   "source": [
    "# Выводы"
   ]
  },
  {
   "cell_type": "markdown",
   "metadata": {},
   "source": [
    "Представленные данные содержат дату и время цикла очистки, входные характеристики сырья, выходные характеристики отвалов и материала после очистки, параметры системы очистки, значения эффективности очистки после черновой и окончательной стадии, а так же расчетные соотношения между количеством реагентов и концентрацией золота в продукте. \n",
    "\n",
    "Часть данных, такие как дата и время цикла очистки, концентрации сопутствующих элементов (Ag, Pb, sol) в отвалах и конечном продукте, расчетные соотношения между количеством реагентов и концентрацией золота в продукте являются лишними для машинного обучения. Другие: концентрация золота в отвалах или конечном продукте требуется только для расчета эффективности очистки.\n",
    "\n",
    "Представленные данные содержат пропуски, которые видимо связаны со сбоем измерительного оборудования. Пропуски данных в концентрации элементов не заполняем, т.к. это характеристики специфические и здесь легко ошибиться. Пропуски в параметрах системы очистки заполняем предыдущим или последующим значением, но не более одного подряд. Системы регистрации концентрации элементов периодически дают сбой показывая нулевую концентрацию элементов.\n",
    "\n",
    "Проверка формулы расчета эффективности очистки показала грубую ошибку, завышающую эффективность очистки при одинаковых концентрациях в отвалах и конечном продукте. Предложена новая формула (1-T/F)(1-T/C).\n",
    "\n",
    "Анализ данных выявил следующие стадии очистки:\n",
    "1. на этапе черновой очистки удаляются примеси типа золей;\n",
    "2. на первичном этапе производится очистка продукта от серебра;\n",
    "3. на вторичном этапе производится очистка продукта от свинца.\n",
    "\n",
    "Анализ предложенных обучающей и тестовой выборок показал, что размер гранул сырья в выборках не одинаковый из-за этого результаты обучения модели могут быть не корректные. Поэтому новые выборки были сделаны из основного датасета.\n",
    "\n",
    "Для создания модели были выбраны DecisionTreeRegressor и RandomForestRegressor. Полученные значения метрики smape, для обоих моделей относительно не велики, 8 и 6% соответственно. При этом константная модель, в которой заложено среднее значение эффективности для любых условий дает величину метрики в 1,5 - 2 раза выше, что положительно характеризует полученные модели."
   ]
  }
 ],
 "metadata": {
  "kernelspec": {
   "display_name": "Python 3",
   "language": "python",
   "name": "python3"
  },
  "language_info": {
   "codemirror_mode": {
    "name": "ipython",
    "version": 3
   },
   "file_extension": ".py",
   "mimetype": "text/x-python",
   "name": "python",
   "nbconvert_exporter": "python",
   "pygments_lexer": "ipython3",
   "version": "3.7.6"
  }
 },
 "nbformat": 4,
 "nbformat_minor": 2
}
