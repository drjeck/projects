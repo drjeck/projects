{
 "cells": [
  {
   "cell_type": "markdown",
   "metadata": {},
   "source": [
    "# Описание проекта"
   ]
  },
  {
   "cell_type": "markdown",
   "metadata": {},
   "source": [
    "Допустим, вы работаете в добывающей компании «ГлавРосГосНефть». Нужно решить, где бурить новую скважину.\n",
    "\n",
    "Вам предоставлены пробы нефти в трёх регионах: в каждом 10 000 месторождений, где измерили качество нефти и объём её запасов. Постройте модель машинного обучения, которая поможет определить регион, где добыча принесёт наибольшую прибыль. Проанализируйте возможную прибыль и риски техникой *Bootstrap.*\n",
    "\n",
    "Шаги для выбора локации:\n",
    "\n",
    "- В избранном регионе ищут месторождения, для каждого определяют значения признаков;\n",
    "- Строят модель и оценивают объём запасов;\n",
    "- Выбирают месторождения с самым высокими оценками значений. Количество месторождений зависит от бюджета компании и стоимости разработки одной скважины;\n",
    "- Прибыль равна суммарной прибыли отобранных месторождений."
   ]
  },
  {
   "cell_type": "markdown",
   "metadata": {},
   "source": [
    "# 1. Загрузка и подготовка данных"
   ]
  },
  {
   "cell_type": "code",
   "execution_count": 1,
   "metadata": {},
   "outputs": [],
   "source": [
    "import pandas as pd\n",
    "import seaborn as sns\n",
    "import numpy as np\n",
    "import matplotlib.pyplot as plt\n",
    "from numpy.random import RandomState\n",
    "from sklearn.preprocessing import StandardScaler\n",
    "from sklearn.model_selection import train_test_split\n",
    "from sklearn.linear_model import LinearRegression\n",
    "from sklearn.metrics import mean_squared_error,r2_score\n",
    "from plotly.subplots import make_subplots"
   ]
  },
  {
   "cell_type": "markdown",
   "metadata": {},
   "source": [
    "Представлены данные по трем регионам добычи нефти. Для удобного обращения с данными дадим безличным регионам названия в соответствии с тремя популярными марками нефти:\n",
    "- brent - geo_data_0;\n",
    "- wti - geo_data_1;\n",
    "- sweet (сокращенно от Light Sweet) - geo_data_2"
   ]
  },
  {
   "cell_type": "markdown",
   "metadata": {},
   "source": [
    "## 1.1 Регион добычи нефти марки *Brent*"
   ]
  },
  {
   "cell_type": "code",
   "execution_count": 2,
   "metadata": {},
   "outputs": [
    {
     "name": "stdout",
     "output_type": "stream",
     "text": [
      "<class 'pandas.core.frame.DataFrame'>\n",
      "RangeIndex: 100000 entries, 0 to 99999\n",
      "Data columns (total 5 columns):\n",
      "id         100000 non-null object\n",
      "f0         100000 non-null float64\n",
      "f1         100000 non-null float64\n",
      "f2         100000 non-null float64\n",
      "product    100000 non-null float64\n",
      "dtypes: float64(4), object(1)\n",
      "memory usage: 3.8+ MB\n"
     ]
    },
    {
     "data": {
      "text/html": [
       "<div>\n",
       "<style scoped>\n",
       "    .dataframe tbody tr th:only-of-type {\n",
       "        vertical-align: middle;\n",
       "    }\n",
       "\n",
       "    .dataframe tbody tr th {\n",
       "        vertical-align: top;\n",
       "    }\n",
       "\n",
       "    .dataframe thead th {\n",
       "        text-align: right;\n",
       "    }\n",
       "</style>\n",
       "<table border=\"1\" class=\"dataframe\">\n",
       "  <thead>\n",
       "    <tr style=\"text-align: right;\">\n",
       "      <th></th>\n",
       "      <th>id</th>\n",
       "      <th>f0</th>\n",
       "      <th>f1</th>\n",
       "      <th>f2</th>\n",
       "      <th>product</th>\n",
       "    </tr>\n",
       "  </thead>\n",
       "  <tbody>\n",
       "    <tr>\n",
       "      <td>0</td>\n",
       "      <td>txEyH</td>\n",
       "      <td>0.705745</td>\n",
       "      <td>-0.497823</td>\n",
       "      <td>1.221170</td>\n",
       "      <td>105.280062</td>\n",
       "    </tr>\n",
       "    <tr>\n",
       "      <td>1</td>\n",
       "      <td>2acmU</td>\n",
       "      <td>1.334711</td>\n",
       "      <td>-0.340164</td>\n",
       "      <td>4.365080</td>\n",
       "      <td>73.037750</td>\n",
       "    </tr>\n",
       "    <tr>\n",
       "      <td>2</td>\n",
       "      <td>409Wp</td>\n",
       "      <td>1.022732</td>\n",
       "      <td>0.151990</td>\n",
       "      <td>1.419926</td>\n",
       "      <td>85.265647</td>\n",
       "    </tr>\n",
       "    <tr>\n",
       "      <td>3</td>\n",
       "      <td>iJLyR</td>\n",
       "      <td>-0.032172</td>\n",
       "      <td>0.139033</td>\n",
       "      <td>2.978566</td>\n",
       "      <td>168.620776</td>\n",
       "    </tr>\n",
       "    <tr>\n",
       "      <td>4</td>\n",
       "      <td>Xdl7t</td>\n",
       "      <td>1.988431</td>\n",
       "      <td>0.155413</td>\n",
       "      <td>4.751769</td>\n",
       "      <td>154.036647</td>\n",
       "    </tr>\n",
       "  </tbody>\n",
       "</table>\n",
       "</div>"
      ],
      "text/plain": [
       "      id        f0        f1        f2     product\n",
       "0  txEyH  0.705745 -0.497823  1.221170  105.280062\n",
       "1  2acmU  1.334711 -0.340164  4.365080   73.037750\n",
       "2  409Wp  1.022732  0.151990  1.419926   85.265647\n",
       "3  iJLyR -0.032172  0.139033  2.978566  168.620776\n",
       "4  Xdl7t  1.988431  0.155413  4.751769  154.036647"
      ]
     },
     "metadata": {},
     "output_type": "display_data"
    },
    {
     "data": {
      "text/plain": [
       "None"
      ]
     },
     "metadata": {},
     "output_type": "display_data"
    }
   ],
   "source": [
    "brent = pd.read_csv('/datasets/geo_data_0.csv')\n",
    "display(brent.head(),brent.info())"
   ]
  },
  {
   "cell_type": "markdown",
   "metadata": {},
   "source": [
    "Представленные данные включают идентификационный номер скважины, который нельзя рассматривать как признак в машинном обучении. Признаки 'f0', 'f1' и 'f2' являются числовыми и требуют масштабирования.\n",
    "\n",
    "Посмотрим как распределены скважины по количеству запаов нефти."
   ]
  },
  {
   "cell_type": "code",
   "execution_count": 3,
   "metadata": {},
   "outputs": [
    {
     "data": {
      "image/png": "[encoded data removed]",
      "text/plain": [
       "<Figure size 432x288 with 1 Axes>"
      ]
     },
     "metadata": {
      "needs_background": "light"
     },
     "output_type": "display_data"
    }
   ],
   "source": [
    "sns.distplot(brent['product'])\n",
    "plt.title('Распределение скважин добычи нефти марки *brent* по запасам')\n",
    "plt.xlabel('Запасы нефти')\n",
    "plt.show()"
   ]
  },
  {
   "cell_type": "markdown",
   "metadata": {},
   "source": [
    "Распределение скаажин по количеству запасов равномерно в диапазоне от 50 до 120 тыс. баррелей. Вцелом распределение напоминает нормальное."
   ]
  },
  {
   "cell_type": "markdown",
   "metadata": {},
   "source": [
    "Подготовим признаки месторождений для обучения модели. Так как все три признака числовые применим к ним масштабирование."
   ]
  },
  {
   "cell_type": "code",
   "execution_count": 4,
   "metadata": {},
   "outputs": [],
   "source": [
    "numeric= ['f0','f1','f2']\n",
    "scaler = StandardScaler()"
   ]
  },
  {
   "cell_type": "code",
   "execution_count": 5,
   "metadata": {},
   "outputs": [
    {
     "data": {
      "text/html": [
       "<div>\n",
       "<style scoped>\n",
       "    .dataframe tbody tr th:only-of-type {\n",
       "        vertical-align: middle;\n",
       "    }\n",
       "\n",
       "    .dataframe tbody tr th {\n",
       "        vertical-align: top;\n",
       "    }\n",
       "\n",
       "    .dataframe thead th {\n",
       "        text-align: right;\n",
       "    }\n",
       "</style>\n",
       "<table border=\"1\" class=\"dataframe\">\n",
       "  <thead>\n",
       "    <tr style=\"text-align: right;\">\n",
       "      <th></th>\n",
       "      <th>f0</th>\n",
       "      <th>f1</th>\n",
       "      <th>f2</th>\n",
       "      <th>product</th>\n",
       "    </tr>\n",
       "  </thead>\n",
       "  <tbody>\n",
       "    <tr>\n",
       "      <td>count</td>\n",
       "      <td>1.000000e+05</td>\n",
       "      <td>1.000000e+05</td>\n",
       "      <td>1.000000e+05</td>\n",
       "      <td>100000.000000</td>\n",
       "    </tr>\n",
       "    <tr>\n",
       "      <td>mean</td>\n",
       "      <td>2.287948e-17</td>\n",
       "      <td>-5.044853e-17</td>\n",
       "      <td>9.608314e-17</td>\n",
       "      <td>92.500000</td>\n",
       "    </tr>\n",
       "    <tr>\n",
       "      <td>std</td>\n",
       "      <td>1.000005e+00</td>\n",
       "      <td>1.000005e+00</td>\n",
       "      <td>1.000005e+00</td>\n",
       "      <td>44.288691</td>\n",
       "    </tr>\n",
       "    <tr>\n",
       "      <td>min</td>\n",
       "      <td>-2.189681e+00</td>\n",
       "      <td>-2.177430e+00</td>\n",
       "      <td>-4.491975e+00</td>\n",
       "      <td>0.000000</td>\n",
       "    </tr>\n",
       "    <tr>\n",
       "      <td>25%</td>\n",
       "      <td>-6.572397e-01</td>\n",
       "      <td>-8.941262e-01</td>\n",
       "      <td>-6.818784e-01</td>\n",
       "      <td>56.497507</td>\n",
       "    </tr>\n",
       "    <tr>\n",
       "      <td>50%</td>\n",
       "      <td>2.226500e-03</td>\n",
       "      <td>2.166008e-04</td>\n",
       "      <td>4.101360e-03</td>\n",
       "      <td>91.849972</td>\n",
       "    </tr>\n",
       "    <tr>\n",
       "      <td>75%</td>\n",
       "      <td>6.574259e-01</td>\n",
       "      <td>8.930937e-01</td>\n",
       "      <td>6.811217e-01</td>\n",
       "      <td>128.564089</td>\n",
       "    </tr>\n",
       "    <tr>\n",
       "      <td>max</td>\n",
       "      <td>2.135642e+00</td>\n",
       "      <td>2.168043e+00</td>\n",
       "      <td>4.156460e+00</td>\n",
       "      <td>185.364347</td>\n",
       "    </tr>\n",
       "  </tbody>\n",
       "</table>\n",
       "</div>"
      ],
      "text/plain": [
       "                 f0            f1            f2        product\n",
       "count  1.000000e+05  1.000000e+05  1.000000e+05  100000.000000\n",
       "mean   2.287948e-17 -5.044853e-17  9.608314e-17      92.500000\n",
       "std    1.000005e+00  1.000005e+00  1.000005e+00      44.288691\n",
       "min   -2.189681e+00 -2.177430e+00 -4.491975e+00       0.000000\n",
       "25%   -6.572397e-01 -8.941262e-01 -6.818784e-01      56.497507\n",
       "50%    2.226500e-03  2.166008e-04  4.101360e-03      91.849972\n",
       "75%    6.574259e-01  8.930937e-01  6.811217e-01     128.564089\n",
       "max    2.135642e+00  2.168043e+00  4.156460e+00     185.364347"
      ]
     },
     "metadata": {},
     "output_type": "display_data"
    }
   ],
   "source": [
    "brent[numeric] = scaler.fit_transform(brent[numeric])\n",
    "display(brent.describe())"
   ]
  },
  {
   "cell_type": "markdown",
   "metadata": {},
   "source": [
    "## 1.2 Регион добычи нефти марки *WTI*"
   ]
  },
  {
   "cell_type": "code",
   "execution_count": 6,
   "metadata": {},
   "outputs": [
    {
     "name": "stdout",
     "output_type": "stream",
     "text": [
      "<class 'pandas.core.frame.DataFrame'>\n",
      "RangeIndex: 100000 entries, 0 to 99999\n",
      "Data columns (total 5 columns):\n",
      "id         100000 non-null object\n",
      "f0         100000 non-null float64\n",
      "f1         100000 non-null float64\n",
      "f2         100000 non-null float64\n",
      "product    100000 non-null float64\n",
      "dtypes: float64(4), object(1)\n",
      "memory usage: 3.8+ MB\n"
     ]
    },
    {
     "data": {
      "text/html": [
       "<div>\n",
       "<style scoped>\n",
       "    .dataframe tbody tr th:only-of-type {\n",
       "        vertical-align: middle;\n",
       "    }\n",
       "\n",
       "    .dataframe tbody tr th {\n",
       "        vertical-align: top;\n",
       "    }\n",
       "\n",
       "    .dataframe thead th {\n",
       "        text-align: right;\n",
       "    }\n",
       "</style>\n",
       "<table border=\"1\" class=\"dataframe\">\n",
       "  <thead>\n",
       "    <tr style=\"text-align: right;\">\n",
       "      <th></th>\n",
       "      <th>id</th>\n",
       "      <th>f0</th>\n",
       "      <th>f1</th>\n",
       "      <th>f2</th>\n",
       "      <th>product</th>\n",
       "    </tr>\n",
       "  </thead>\n",
       "  <tbody>\n",
       "    <tr>\n",
       "      <td>0</td>\n",
       "      <td>kBEdx</td>\n",
       "      <td>-15.001348</td>\n",
       "      <td>-8.276000</td>\n",
       "      <td>-0.005876</td>\n",
       "      <td>3.179103</td>\n",
       "    </tr>\n",
       "    <tr>\n",
       "      <td>1</td>\n",
       "      <td>62mP7</td>\n",
       "      <td>14.272088</td>\n",
       "      <td>-3.475083</td>\n",
       "      <td>0.999183</td>\n",
       "      <td>26.953261</td>\n",
       "    </tr>\n",
       "    <tr>\n",
       "      <td>2</td>\n",
       "      <td>vyE1P</td>\n",
       "      <td>6.263187</td>\n",
       "      <td>-5.948386</td>\n",
       "      <td>5.001160</td>\n",
       "      <td>134.766305</td>\n",
       "    </tr>\n",
       "    <tr>\n",
       "      <td>3</td>\n",
       "      <td>KcrkZ</td>\n",
       "      <td>-13.081196</td>\n",
       "      <td>-11.506057</td>\n",
       "      <td>4.999415</td>\n",
       "      <td>137.945408</td>\n",
       "    </tr>\n",
       "    <tr>\n",
       "      <td>4</td>\n",
       "      <td>AHL4O</td>\n",
       "      <td>12.702195</td>\n",
       "      <td>-8.147433</td>\n",
       "      <td>5.004363</td>\n",
       "      <td>134.766305</td>\n",
       "    </tr>\n",
       "  </tbody>\n",
       "</table>\n",
       "</div>"
      ],
      "text/plain": [
       "      id         f0         f1        f2     product\n",
       "0  kBEdx -15.001348  -8.276000 -0.005876    3.179103\n",
       "1  62mP7  14.272088  -3.475083  0.999183   26.953261\n",
       "2  vyE1P   6.263187  -5.948386  5.001160  134.766305\n",
       "3  KcrkZ -13.081196 -11.506057  4.999415  137.945408\n",
       "4  AHL4O  12.702195  -8.147433  5.004363  134.766305"
      ]
     },
     "metadata": {},
     "output_type": "display_data"
    },
    {
     "data": {
      "text/plain": [
       "None"
      ]
     },
     "metadata": {},
     "output_type": "display_data"
    }
   ],
   "source": [
    "wti = pd.read_csv('/datasets/geo_data_1.csv')\n",
    "display(wti.head(),wti.info())"
   ]
  },
  {
   "cell_type": "code",
   "execution_count": 7,
   "metadata": {},
   "outputs": [
    {
     "data": {
      "image/png": "[encoded data removed]",
      "text/plain": [
       "<Figure size 432x288 with 1 Axes>"
      ]
     },
     "metadata": {
      "needs_background": "light"
     },
     "output_type": "display_data"
    }
   ],
   "source": [
    "sns.distplot(wti['product'])\n",
    "plt.xlabel('Запасы нефти')\n",
    "plt.title('Распределение скважин по количеству запасов нефти марки *WTI*')\n",
    "plt.show()"
   ]
  },
  {
   "cell_type": "markdown",
   "metadata": {},
   "source": [
    "В отличие от месторождений марки Brent, месторождения марки WTI по своим запасам четко дифференцированы. Максимальное значение здесь ниже чем в предыдущем регионе."
   ]
  },
  {
   "cell_type": "markdown",
   "metadata": {},
   "source": [
    "Подготовим признаки к машинному обучению."
   ]
  },
  {
   "cell_type": "code",
   "execution_count": 8,
   "metadata": {},
   "outputs": [
    {
     "data": {
      "text/html": [
       "<div>\n",
       "<style scoped>\n",
       "    .dataframe tbody tr th:only-of-type {\n",
       "        vertical-align: middle;\n",
       "    }\n",
       "\n",
       "    .dataframe tbody tr th {\n",
       "        vertical-align: top;\n",
       "    }\n",
       "\n",
       "    .dataframe thead th {\n",
       "        text-align: right;\n",
       "    }\n",
       "</style>\n",
       "<table border=\"1\" class=\"dataframe\">\n",
       "  <thead>\n",
       "    <tr style=\"text-align: right;\">\n",
       "      <th></th>\n",
       "      <th>f0</th>\n",
       "      <th>f1</th>\n",
       "      <th>f2</th>\n",
       "      <th>product</th>\n",
       "    </tr>\n",
       "  </thead>\n",
       "  <tbody>\n",
       "    <tr>\n",
       "      <td>count</td>\n",
       "      <td>1.000000e+05</td>\n",
       "      <td>1.000000e+05</td>\n",
       "      <td>1.000000e+05</td>\n",
       "      <td>100000.000000</td>\n",
       "    </tr>\n",
       "    <tr>\n",
       "      <td>mean</td>\n",
       "      <td>-7.105427e-18</td>\n",
       "      <td>1.854517e-17</td>\n",
       "      <td>1.444533e-16</td>\n",
       "      <td>68.825000</td>\n",
       "    </tr>\n",
       "    <tr>\n",
       "      <td>std</td>\n",
       "      <td>1.000005e+00</td>\n",
       "      <td>1.000005e+00</td>\n",
       "      <td>1.000005e+00</td>\n",
       "      <td>45.944423</td>\n",
       "    </tr>\n",
       "    <tr>\n",
       "      <td>min</td>\n",
       "      <td>-3.652831e+00</td>\n",
       "      <td>-4.211458e+00</td>\n",
       "      <td>-1.474959e+00</td>\n",
       "      <td>0.000000</td>\n",
       "    </tr>\n",
       "    <tr>\n",
       "      <td>25%</td>\n",
       "      <td>-8.297949e-01</td>\n",
       "      <td>-6.780293e-01</td>\n",
       "      <td>-8.772907e-01</td>\n",
       "      <td>26.953261</td>\n",
       "    </tr>\n",
       "    <tr>\n",
       "      <td>50%</td>\n",
       "      <td>1.311571e-03</td>\n",
       "      <td>-3.240857e-03</td>\n",
       "      <td>-2.835602e-01</td>\n",
       "      <td>57.085625</td>\n",
       "    </tr>\n",
       "    <tr>\n",
       "      <td>75%</td>\n",
       "      <td>8.342420e-01</td>\n",
       "      <td>6.765366e-01</td>\n",
       "      <td>8.836555e-01</td>\n",
       "      <td>107.813044</td>\n",
       "    </tr>\n",
       "    <tr>\n",
       "      <td>max</td>\n",
       "      <td>3.154229e+00</td>\n",
       "      <td>4.595967e+00</td>\n",
       "      <td>1.482293e+00</td>\n",
       "      <td>137.945408</td>\n",
       "    </tr>\n",
       "  </tbody>\n",
       "</table>\n",
       "</div>"
      ],
      "text/plain": [
       "                 f0            f1            f2        product\n",
       "count  1.000000e+05  1.000000e+05  1.000000e+05  100000.000000\n",
       "mean  -7.105427e-18  1.854517e-17  1.444533e-16      68.825000\n",
       "std    1.000005e+00  1.000005e+00  1.000005e+00      45.944423\n",
       "min   -3.652831e+00 -4.211458e+00 -1.474959e+00       0.000000\n",
       "25%   -8.297949e-01 -6.780293e-01 -8.772907e-01      26.953261\n",
       "50%    1.311571e-03 -3.240857e-03 -2.835602e-01      57.085625\n",
       "75%    8.342420e-01  6.765366e-01  8.836555e-01     107.813044\n",
       "max    3.154229e+00  4.595967e+00  1.482293e+00     137.945408"
      ]
     },
     "metadata": {},
     "output_type": "display_data"
    }
   ],
   "source": [
    "wti[numeric] = scaler.fit_transform(wti[numeric])\n",
    "display(wti.describe())"
   ]
  },
  {
   "cell_type": "markdown",
   "metadata": {},
   "source": [
    "## 1.3 Регион добычи нефти марки *Light Sweet*"
   ]
  },
  {
   "cell_type": "code",
   "execution_count": 9,
   "metadata": {},
   "outputs": [
    {
     "name": "stdout",
     "output_type": "stream",
     "text": [
      "<class 'pandas.core.frame.DataFrame'>\n",
      "RangeIndex: 100000 entries, 0 to 99999\n",
      "Data columns (total 5 columns):\n",
      "id         100000 non-null object\n",
      "f0         100000 non-null float64\n",
      "f1         100000 non-null float64\n",
      "f2         100000 non-null float64\n",
      "product    100000 non-null float64\n",
      "dtypes: float64(4), object(1)\n",
      "memory usage: 3.8+ MB\n"
     ]
    },
    {
     "data": {
      "text/html": [
       "<div>\n",
       "<style scoped>\n",
       "    .dataframe tbody tr th:only-of-type {\n",
       "        vertical-align: middle;\n",
       "    }\n",
       "\n",
       "    .dataframe tbody tr th {\n",
       "        vertical-align: top;\n",
       "    }\n",
       "\n",
       "    .dataframe thead th {\n",
       "        text-align: right;\n",
       "    }\n",
       "</style>\n",
       "<table border=\"1\" class=\"dataframe\">\n",
       "  <thead>\n",
       "    <tr style=\"text-align: right;\">\n",
       "      <th></th>\n",
       "      <th>id</th>\n",
       "      <th>f0</th>\n",
       "      <th>f1</th>\n",
       "      <th>f2</th>\n",
       "      <th>product</th>\n",
       "    </tr>\n",
       "  </thead>\n",
       "  <tbody>\n",
       "    <tr>\n",
       "      <td>0</td>\n",
       "      <td>fwXo0</td>\n",
       "      <td>-1.146987</td>\n",
       "      <td>0.963328</td>\n",
       "      <td>-0.828965</td>\n",
       "      <td>27.758673</td>\n",
       "    </tr>\n",
       "    <tr>\n",
       "      <td>1</td>\n",
       "      <td>WJtFt</td>\n",
       "      <td>0.262778</td>\n",
       "      <td>0.269839</td>\n",
       "      <td>-2.530187</td>\n",
       "      <td>56.069697</td>\n",
       "    </tr>\n",
       "    <tr>\n",
       "      <td>2</td>\n",
       "      <td>ovLUW</td>\n",
       "      <td>0.194587</td>\n",
       "      <td>0.289035</td>\n",
       "      <td>-5.586433</td>\n",
       "      <td>62.871910</td>\n",
       "    </tr>\n",
       "    <tr>\n",
       "      <td>3</td>\n",
       "      <td>q6cA6</td>\n",
       "      <td>2.236060</td>\n",
       "      <td>-0.553760</td>\n",
       "      <td>0.930038</td>\n",
       "      <td>114.572842</td>\n",
       "    </tr>\n",
       "    <tr>\n",
       "      <td>4</td>\n",
       "      <td>WPMUX</td>\n",
       "      <td>-0.515993</td>\n",
       "      <td>1.716266</td>\n",
       "      <td>5.899011</td>\n",
       "      <td>149.600746</td>\n",
       "    </tr>\n",
       "  </tbody>\n",
       "</table>\n",
       "</div>"
      ],
      "text/plain": [
       "      id        f0        f1        f2     product\n",
       "0  fwXo0 -1.146987  0.963328 -0.828965   27.758673\n",
       "1  WJtFt  0.262778  0.269839 -2.530187   56.069697\n",
       "2  ovLUW  0.194587  0.289035 -5.586433   62.871910\n",
       "3  q6cA6  2.236060 -0.553760  0.930038  114.572842\n",
       "4  WPMUX -0.515993  1.716266  5.899011  149.600746"
      ]
     },
     "metadata": {},
     "output_type": "display_data"
    },
    {
     "data": {
      "text/plain": [
       "None"
      ]
     },
     "metadata": {},
     "output_type": "display_data"
    }
   ],
   "source": [
    "sweet = pd.read_csv('/datasets/geo_data_2.csv')\n",
    "display(sweet.head(),sweet.info())"
   ]
  },
  {
   "cell_type": "code",
   "execution_count": 10,
   "metadata": {},
   "outputs": [
    {
     "data": {
      "text/plain": [
       "<matplotlib.axes._subplots.AxesSubplot at 0x7f8f19db2a50>"
      ]
     },
     "execution_count": 10,
     "metadata": {},
     "output_type": "execute_result"
    },
    {
     "data": {
      "image/png": "[encoded data removed]",
      "text/plain": [
       "<Figure size 432x288 with 1 Axes>"
      ]
     },
     "metadata": {
      "needs_background": "light"
     },
     "output_type": "display_data"
    }
   ],
   "source": [
    "sns.distplot(sweet['product'])"
   ]
  },
  {
   "cell_type": "markdown",
   "metadata": {},
   "source": [
    "Распределение запасов нефти марки *Light Sweet* похоже на распределение для марки *Brent*."
   ]
  },
  {
   "cell_type": "markdown",
   "metadata": {},
   "source": [
    "Подготовим признаки к машинному обучению."
   ]
  },
  {
   "cell_type": "code",
   "execution_count": 11,
   "metadata": {},
   "outputs": [
    {
     "data": {
      "text/html": [
       "<div>\n",
       "<style scoped>\n",
       "    .dataframe tbody tr th:only-of-type {\n",
       "        vertical-align: middle;\n",
       "    }\n",
       "\n",
       "    .dataframe tbody tr th {\n",
       "        vertical-align: top;\n",
       "    }\n",
       "\n",
       "    .dataframe thead th {\n",
       "        text-align: right;\n",
       "    }\n",
       "</style>\n",
       "<table border=\"1\" class=\"dataframe\">\n",
       "  <thead>\n",
       "    <tr style=\"text-align: right;\">\n",
       "      <th></th>\n",
       "      <th>f0</th>\n",
       "      <th>f1</th>\n",
       "      <th>f2</th>\n",
       "      <th>product</th>\n",
       "    </tr>\n",
       "  </thead>\n",
       "  <tbody>\n",
       "    <tr>\n",
       "      <td>count</td>\n",
       "      <td>1.000000e+05</td>\n",
       "      <td>1.000000e+05</td>\n",
       "      <td>1.000000e+05</td>\n",
       "      <td>100000.000000</td>\n",
       "    </tr>\n",
       "    <tr>\n",
       "      <td>mean</td>\n",
       "      <td>2.241762e-17</td>\n",
       "      <td>-1.435296e-17</td>\n",
       "      <td>-1.391953e-16</td>\n",
       "      <td>95.000000</td>\n",
       "    </tr>\n",
       "    <tr>\n",
       "      <td>std</td>\n",
       "      <td>1.000005e+00</td>\n",
       "      <td>1.000005e+00</td>\n",
       "      <td>1.000005e+00</td>\n",
       "      <td>44.749921</td>\n",
       "    </tr>\n",
       "    <tr>\n",
       "      <td>min</td>\n",
       "      <td>-5.058801e+00</td>\n",
       "      <td>-4.092640e+00</td>\n",
       "      <td>-4.164608e+00</td>\n",
       "      <td>0.000000</td>\n",
       "    </tr>\n",
       "    <tr>\n",
       "      <td>25%</td>\n",
       "      <td>-6.722210e-01</td>\n",
       "      <td>-6.777239e-01</td>\n",
       "      <td>-6.808172e-01</td>\n",
       "      <td>59.450441</td>\n",
       "    </tr>\n",
       "    <tr>\n",
       "      <td>50%</td>\n",
       "      <td>4.272944e-03</td>\n",
       "      <td>-4.277388e-03</td>\n",
       "      <td>-3.135732e-03</td>\n",
       "      <td>94.925613</td>\n",
       "    </tr>\n",
       "    <tr>\n",
       "      <td>75%</td>\n",
       "      <td>6.677185e-01</td>\n",
       "      <td>6.736897e-01</td>\n",
       "      <td>6.804996e-01</td>\n",
       "      <td>130.595027</td>\n",
       "    </tr>\n",
       "    <tr>\n",
       "      <td>max</td>\n",
       "      <td>4.177880e+00</td>\n",
       "      <td>4.534699e+00</td>\n",
       "      <td>4.100928e+00</td>\n",
       "      <td>190.029838</td>\n",
       "    </tr>\n",
       "  </tbody>\n",
       "</table>\n",
       "</div>"
      ],
      "text/plain": [
       "                 f0            f1            f2        product\n",
       "count  1.000000e+05  1.000000e+05  1.000000e+05  100000.000000\n",
       "mean   2.241762e-17 -1.435296e-17 -1.391953e-16      95.000000\n",
       "std    1.000005e+00  1.000005e+00  1.000005e+00      44.749921\n",
       "min   -5.058801e+00 -4.092640e+00 -4.164608e+00       0.000000\n",
       "25%   -6.722210e-01 -6.777239e-01 -6.808172e-01      59.450441\n",
       "50%    4.272944e-03 -4.277388e-03 -3.135732e-03      94.925613\n",
       "75%    6.677185e-01  6.736897e-01  6.804996e-01     130.595027\n",
       "max    4.177880e+00  4.534699e+00  4.100928e+00     190.029838"
      ]
     },
     "metadata": {},
     "output_type": "display_data"
    }
   ],
   "source": [
    "sweet[numeric] = scaler.fit_transform(sweet[numeric])\n",
    "display(sweet.describe())"
   ]
  },
  {
   "cell_type": "markdown",
   "metadata": {},
   "source": [
    "# 2. Обучение и проверка модели"
   ]
  },
  {
   "cell_type": "markdown",
   "metadata": {},
   "source": [
    "Так как предстоит работа с тремя базами данных создадим функцию, которая получает на вход признаки и целевые значения модели, а выдает: значения предсказанные по тестовым признакам; целевые тестовые значения; метрику R2 - коэффициент детерминации модели; метрику RMSE - квадратный корень из среднеквадратичной ошибки."
   ]
  },
  {
   "cell_type": "code",
   "execution_count": 16,
   "metadata": {},
   "outputs": [],
   "source": [
    "model = LinearRegression()\n",
    "def product_prediction(features,target):\n",
    "    features_train, features_test, target_train, target_test = train_test_split(\n",
    "                        features,target,test_size=0.25,random_state=1)\n",
    "    model.fit(features_train,target_train)\n",
    "    predictions = model.predict(features_test)\n",
    "    rmse = mean_squared_error(target_test,predictions)**0.5\n",
    "    r2 = r2_score(target_test,predictions)\n",
    "    return pd.Series(predictions,index=target_test.index), target_test, rmse, r2"
   ]
  },
  {
   "cell_type": "markdown",
   "metadata": {},
   "source": [
    "Применим полученную функцию к имеющимся базам данных."
   ]
  },
  {
   "cell_type": "code",
   "execution_count": 17,
   "metadata": {},
   "outputs": [
    {
     "data": {
      "text/plain": [
       "'Средний запас нефти марки *Brent* равен 92 тыс. баррелей'"
      ]
     },
     "metadata": {},
     "output_type": "display_data"
    },
    {
     "data": {
      "text/plain": [
       "'Коэффициент детерминации предсказания запаса нефти марки *Brent* равен 0.28'"
      ]
     },
     "metadata": {},
     "output_type": "display_data"
    },
    {
     "data": {
      "text/plain": [
       "'RMSE предсказания запаса нефти марки *Brent* равен 38'"
      ]
     },
     "metadata": {},
     "output_type": "display_data"
    }
   ],
   "source": [
    "brent_predictions, brent_target, brent_rmse, brent_r2 = product_prediction(brent[numeric],brent['product'])\n",
    "display(\n",
    "    'Средний запас нефти марки *Brent* равен {:.0f} тыс. баррелей'.format(brent_predictions.mean()),\n",
    "    'Коэффициент детерминации предсказания запаса нефти марки *Brent* равен {:.2f}'.format(brent_r2),\n",
    "    'RMSE предсказания запаса нефти марки *Brent* равен {:.0f}'.format(brent_rmse))"
   ]
  },
  {
   "cell_type": "code",
   "execution_count": 18,
   "metadata": {},
   "outputs": [
    {
     "data": {
      "text/plain": [
       "'Средний запас нефти марки *WTI* равен 69 тыс. баррелей'"
      ]
     },
     "metadata": {},
     "output_type": "display_data"
    },
    {
     "data": {
      "text/plain": [
       "'Коэффициент детерминации предсказания запаса нефти марки *WTI* равен 1.00'"
      ]
     },
     "metadata": {},
     "output_type": "display_data"
    },
    {
     "data": {
      "text/plain": [
       "'RMSE предсказания запаса нефти марки *WTI* равен 1'"
      ]
     },
     "metadata": {},
     "output_type": "display_data"
    }
   ],
   "source": [
    "wti_predictions, wti_target, wti_rmse, wti_r2 = product_prediction(wti[numeric],wti['product'])\n",
    "display(\n",
    "    'Средний запас нефти марки *WTI* равен {:.0f} тыс. баррелей'.format(wti_predictions.mean()),\n",
    "    'Коэффициент детерминации предсказания запаса нефти марки *WTI* равен {:.2f}'.format(wti_r2),\n",
    "    'RMSE предсказания запаса нефти марки *WTI* равен {:.0f}'.format(wti_rmse))"
   ]
  },
  {
   "cell_type": "code",
   "execution_count": 19,
   "metadata": {},
   "outputs": [
    {
     "data": {
      "text/plain": [
       "'Средний запас нефти марки *Light_Sweet* равен 95 тыс. баррелей'"
      ]
     },
     "metadata": {},
     "output_type": "display_data"
    },
    {
     "data": {
      "text/plain": [
       "'Коэффициент детерминации предсказания запаса нефти марки *Light Sweet* равен 0.20'"
      ]
     },
     "metadata": {},
     "output_type": "display_data"
    },
    {
     "data": {
      "text/plain": [
       "'RMSE предсказания запаса нефти марки *Light Sweet* равен 40'"
      ]
     },
     "metadata": {},
     "output_type": "display_data"
    }
   ],
   "source": [
    "sweet_predictions, sweet_target, sweet_rmse, sweet_r2 = product_prediction(sweet[numeric],sweet['product'])\n",
    "display(\n",
    "    'Средний запас нефти марки *Light_Sweet* равен {:.0f} тыс. баррелей'.format(sweet_predictions.mean()),\n",
    "    'Коэффициент детерминации предсказания запаса нефти марки *Light Sweet* равен {:.2f}'.format(sweet_r2),\n",
    "    'RMSE предсказания запаса нефти марки *Light Sweet* равен {:.0f}'.format(sweet_rmse))"
   ]
  },
  {
   "cell_type": "markdown",
   "metadata": {},
   "source": [
    "# Выводы"
   ]
  },
  {
   "cell_type": "markdown",
   "metadata": {},
   "source": [
    "Наилучшую точность предсказания модель дает для месторождений нефти марки *WTI* (коэффициент детерминации здесь равен 1), соответственно и погрешность предсказания объемов минимальная (RMSE равен 1 тыс. баррелей). Погрешность предсказания запасов нефти в месторождениях марок *Brent* и *Light Sweet* достигает 100%, в данном случае модель дает не многим лучший результат предсказания чем использование средних значений."
   ]
  },
  {
   "cell_type": "markdown",
   "metadata": {},
   "source": [
    "# 3. Подготовка к расчёту прибыли"
   ]
  },
  {
   "cell_type": "markdown",
   "metadata": {},
   "source": [
    "Введем исходные данные"
   ]
  },
  {
   "cell_type": "code",
   "execution_count": 20,
   "metadata": {},
   "outputs": [],
   "source": [
    "budget = 10E9 #Бюджет на разработку скважин в регионе\n",
    "barrel_unit_price = 450E3 #Доход с каждой единицы продукта составляет 450 тыс. рублей\n",
    "point_number = 500 #При разведке региона исследуют 500 точек\n",
    "best_point_number = 200 #200 лучших для расчёта прибыли"
   ]
  },
  {
   "cell_type": "markdown",
   "metadata": {},
   "source": [
    "Рассчитаем объём запасов нефти в месторождениях необходимый для безубыточной разработки новой скважины"
   ]
  },
  {
   "cell_type": "code",
   "execution_count": 21,
   "metadata": {},
   "outputs": [
    {
     "name": "stdout",
     "output_type": "stream",
     "text": [
      "Объём нефти для безубыточной разработки новой скважины 111 тыс. баррелей\n"
     ]
    }
   ],
   "source": [
    "zero_profit = budget/barrel_unit_price/best_point_number\n",
    "print('Объём нефти для безубыточной разработки новой скважины {:.0f} тыс. баррелей'.format(zero_profit))"
   ]
  },
  {
   "cell_type": "markdown",
   "metadata": {},
   "source": [
    "Запасы нефти для безубыточной разработки новой скважины превышает средние запасы нефти во всех регионах. Посмотрим какая доля скважин в каждом регионе не является убыточной."
   ]
  },
  {
   "cell_type": "code",
   "execution_count": 22,
   "metadata": {},
   "outputs": [
    {
     "data": {
      "text/plain": [
       "'Доля месторождений нефти марки *Brent* приносящих прибыль равна 0.37'"
      ]
     },
     "metadata": {},
     "output_type": "display_data"
    },
    {
     "data": {
      "text/plain": [
       "'Доля месторождений нефти марки *WTI* приносящих прибыль равна 0.17'"
      ]
     },
     "metadata": {},
     "output_type": "display_data"
    },
    {
     "data": {
      "text/plain": [
       "'Доля месторождений нефти марки *Light Sweet* приносящих прибыль равна 0.38'"
      ]
     },
     "metadata": {},
     "output_type": "display_data"
    }
   ],
   "source": [
    "display('Доля месторождений нефти марки *Brent* приносящих прибыль равна {:.2f}'.format(\n",
    "    brent.query('product > @zero_profit').shape[0]/brent.shape[0]),\n",
    "       'Доля месторождений нефти марки *WTI* приносящих прибыль равна {:.2f}'.format(\n",
    "    wti.query('product > @zero_profit').shape[0]/wti.shape[0]),\n",
    "        'Доля месторождений нефти марки *Light Sweet* приносящих прибыль равна {:.2f}'.format(\n",
    "    sweet.query('product > @zero_profit').shape[0]/sweet.shape[0]))"
   ]
  },
  {
   "cell_type": "markdown",
   "metadata": {},
   "source": [
    "# Выводы"
   ]
  },
  {
   "cell_type": "markdown",
   "metadata": {},
   "source": [
    "В регионах по добыче нефти марок *Brent* и *Light Sweet* доля прибыльных скважин составляет 40%, в то время как для *WTI* таких месторождений в два раза меньше. Соответственно, выбирая из 500 возможных месторождений 200 лучших (40%), для марок *Brent* и *Light Sweet* мы должны получать все прибыльные месторождения, а в случае месторождений марки *WTI* неизбежно захватываем часть убыточных.\n",
    "\n",
    "Однако обученная раннее модель идеально предсказывает запасы именно в месторождениях *WTI*, а значит здесь мы точно выберем месторождения приносящие прибыль. В то время как в регионах добычи нефти марок *Brent* и *Light Sweet* компания по прежнему работает в слепую."
   ]
  },
  {
   "cell_type": "markdown",
   "metadata": {},
   "source": [
    "# 4. Расчёт прибыли и рисков "
   ]
  },
  {
   "cell_type": "markdown",
   "metadata": {},
   "source": [
    "## 4.1 Подготовка функции прибыли (рентабельности)"
   ]
  },
  {
   "cell_type": "markdown",
   "metadata": {},
   "source": [
    "Подготовим функцию для расчета прибыли и рисков (вероятности убыточности разработки месторождений). Вместо метрики прибыли будем использовать относительную величину - рентабельность (отношение прибыли к валовой выручке), которая дополнительно показывает насколько велика прибыль, а так же удобнее воспринимается."
   ]
  },
  {
   "cell_type": "code",
   "execution_count": 23,
   "metadata": {},
   "outputs": [],
   "source": [
    "state = RandomState(12)\n",
    "def profitability(product_volume_predictions,product_volume_test):\n",
    "    predicted_profitability = [] #предсказанная рентаблеьность\n",
    "    predicted_risk_count = 0 #количество предсказанных убыточных случаев\n",
    "    test_profitability = [] #тестовая рентаблеьность\n",
    "    test_risk_count = 0 #количество тестовых убыточных случаев\n",
    "    for i in range(1000):\n",
    "        volume = pd.DataFrame(product_volume_predictions,columns=['predicted_volume'])\n",
    "        volume['test_volume'] = product_volume_test\n",
    "        best_predictions = volume.sample(n=point_number,replace=True,random_state=state\n",
    "                                  ).sort_values(by='predicted_volume',ascending=False).head(best_point_number)\n",
    "        predicted_income = best_predictions['predicted_volume'].sum() * barrel_unit_price\n",
    "        predicted_profitability.append((predicted_income - budget)/predicted_income)\n",
    "        test_income = best_predictions['test_volume'].sum() * barrel_unit_price\n",
    "        test_profitability.append((test_income - budget)/test_income)\n",
    "        if (predicted_income - budget)/predicted_income < 0:\n",
    "            predicted_risk_count += 1\n",
    "        if (test_income - budget)/test_income < 0:\n",
    "            test_risk_count += 1\n",
    "    predicted_profitability = pd.Series(predicted_profitability)\n",
    "    predicted_risk = predicted_risk_count/1000*100\n",
    "    test_profitability = pd.Series(test_profitability)\n",
    "    test_risk = test_risk_count/1000*100\n",
    "    return predicted_profitability, predicted_risk, test_profitability, test_risk"
   ]
  },
  {
   "cell_type": "markdown",
   "metadata": {},
   "source": [
    "Применим полученную функцию к данным по каждому региону."
   ]
  },
  {
   "cell_type": "code",
   "execution_count": 20,
   "metadata": {},
   "outputs": [],
   "source": [
    "brent_predicted_profitability, brent_predicted_risk, brent_test_profitability, brent_test_risk = profitability(\n",
    "    brent_predictions,brent_target)"
   ]
  },
  {
   "cell_type": "code",
   "execution_count": 21,
   "metadata": {},
   "outputs": [],
   "source": [
    "wti_predicted_profitability, wti_predicted_risk, wti_test_profitability, wti_test_risk = profitability(\n",
    "    wti_predictions,wti_target)"
   ]
  },
  {
   "cell_type": "code",
   "execution_count": 22,
   "metadata": {},
   "outputs": [],
   "source": [
    "sweet_predicted_profitability, sweet_predicted_risk, sweet_test_profitability, sweet_test_risk = profitability(\n",
    "    sweet_predictions,sweet_target)"
   ]
  },
  {
   "cell_type": "markdown",
   "metadata": {},
   "source": [
    "Получим для каждого региона предсказанные: среднюю рентабельность, 95%-й доверительный интервал рентабельности, и риск убытков; а так же сравним их с тестовыми данными."
   ]
  },
  {
   "cell_type": "markdown",
   "metadata": {},
   "source": [
    "## 4.2 Расчет рентабельности разработки месторождений нефти марки  *Brent*"
   ]
  },
  {
   "cell_type": "code",
   "execution_count": 23,
   "metadata": {},
   "outputs": [
    {
     "data": {
      "text/html": [
       "<div>\n",
       "<style scoped>\n",
       "    .dataframe tbody tr th:only-of-type {\n",
       "        vertical-align: middle;\n",
       "    }\n",
       "\n",
       "    .dataframe tbody tr th {\n",
       "        vertical-align: top;\n",
       "    }\n",
       "\n",
       "    .dataframe thead th {\n",
       "        text-align: right;\n",
       "    }\n",
       "</style>\n",
       "<table border=\"1\" class=\"dataframe\">\n",
       "  <thead>\n",
       "    <tr style=\"text-align: right;\">\n",
       "      <th></th>\n",
       "      <th>mean_profitability</th>\n",
       "      <th>profitability_quantile_5%</th>\n",
       "      <th>risk,%</th>\n",
       "    </tr>\n",
       "  </thead>\n",
       "  <tbody>\n",
       "    <tr>\n",
       "      <td>brent_predicted</td>\n",
       "      <td>0.034061</td>\n",
       "      <td>0.016704</td>\n",
       "      <td>0.2</td>\n",
       "    </tr>\n",
       "    <tr>\n",
       "      <td>brent_test</td>\n",
       "      <td>0.040878</td>\n",
       "      <td>-0.001528</td>\n",
       "      <td>6.0</td>\n",
       "    </tr>\n",
       "  </tbody>\n",
       "</table>\n",
       "</div>"
      ],
      "text/plain": [
       "                 mean_profitability  profitability_quantile_5%  risk,%\n",
       "brent_predicted            0.034061                   0.016704     0.2\n",
       "brent_test                 0.040878                  -0.001528     6.0"
      ]
     },
     "metadata": {},
     "output_type": "display_data"
    }
   ],
   "source": [
    "brent_stats = pd.DataFrame([[brent_predicted_profitability.mean(),\n",
    "                            brent_predicted_profitability.quantile(0.05),\n",
    "                            brent_predicted_risk],\n",
    "                            [brent_test_profitability.mean(),\n",
    "                            brent_test_profitability.quantile(0.05),\n",
    "                            brent_test_risk]],\n",
    "                           index = ['brent_predicted','brent_test'],\n",
    "                           columns = ['mean_profitability','profitability_quantile_5%','risk,%'])\n",
    "display(brent_stats)"
   ]
  },
  {
   "cell_type": "markdown",
   "metadata": {},
   "source": [
    "Средняя рентабельность разработки месторождений нефти марки *Brent* предсказанная моделью 0.034, что на 0.007 ниже чем может быть получено при разработке этих скважин (по тестовым данным). Однако риск убытков по тестовым данным так же значительно выше чем по данным предсказанным моделью. Как мы видели выше, модель плохо справилась с этими данными и доверяя полученным предсказаниям можно получить убыточную рентабельность с вероятностью 6%."
   ]
  },
  {
   "cell_type": "markdown",
   "metadata": {},
   "source": [
    "Посмотрим варианты рентабельности рассчитанные по данным предсказанным обученной моделью и по тестовым данным."
   ]
  },
  {
   "cell_type": "code",
   "execution_count": 24,
   "metadata": {},
   "outputs": [
    {
     "data": {
      "image/png": "[encoded data removed]",
      "text/plain": [
       "<Figure size 432x288 with 1 Axes>"
      ]
     },
     "metadata": {
      "needs_background": "light"
     },
     "output_type": "display_data"
    }
   ],
   "source": [
    "sns.distplot(brent_predicted_profitability, hist_kws={'label':'predicted'})\n",
    "sns.distplot(brent_test_profitability, hist_kws={'label':'test'})\n",
    "plt.legend()\n",
    "plt.xlabel('Валовая рентабельность')\n",
    "plt.title('Валовая рентабельность разработки новых скважин для добычи нефти марки *brent*')\n",
    "plt.show()"
   ]
  },
  {
   "cell_type": "markdown",
   "metadata": {},
   "source": [
    "Предсказанное и тестовое распределение рентабельности близки к нормальному распределению с примерно одинаковым средним, однако стандартное отклонение по тестовым данным существенно больше чем по предсказанным моделью. По-видимому модель плохо предсказвает максимальные и минимальные значения. Проверим это. Построим ящик с усами для предсказанных и тестовых значений."
   ]
  },
  {
   "cell_type": "code",
   "execution_count": 25,
   "metadata": {},
   "outputs": [
    {
     "data": {
      "image/png": "[encoded data removed]",
      "text/plain": [
       "<Figure size 432x288 with 1 Axes>"
      ]
     },
     "metadata": {
      "needs_background": "light"
     },
     "output_type": "display_data"
    },
    {
     "data": {
      "image/png": "[encoded data removed]",
      "text/plain": [
       "<Figure size 432x288 with 1 Axes>"
      ]
     },
     "metadata": {
      "needs_background": "light"
     },
     "output_type": "display_data"
    }
   ],
   "source": [
    "sns.boxplot(y=brent_predictions)\n",
    "plt.xlabel('Предсказанные запасы')\n",
    "plt.ylabel('product')\n",
    "plt.ylim(-5,200)\n",
    "plt.show()\n",
    "sns.boxplot(y=brent_target)\n",
    "plt.xlabel('Тестовые запасы')\n",
    "plt.ylim(-5,200)\n",
    "plt.show()"
   ]
  },
  {
   "cell_type": "markdown",
   "metadata": {},
   "source": [
    "Действительно в предсказанных моделью месторождениях мало скважин с очень малым и очень большим запасом нефти."
   ]
  },
  {
   "cell_type": "markdown",
   "metadata": {},
   "source": [
    "## 4.3 Расчет рентабельности разработки месторождений нефти марки  *WTI*"
   ]
  },
  {
   "cell_type": "code",
   "execution_count": 26,
   "metadata": {},
   "outputs": [
    {
     "data": {
      "text/html": [
       "<div>\n",
       "<style scoped>\n",
       "    .dataframe tbody tr th:only-of-type {\n",
       "        vertical-align: middle;\n",
       "    }\n",
       "\n",
       "    .dataframe tbody tr th {\n",
       "        vertical-align: top;\n",
       "    }\n",
       "\n",
       "    .dataframe thead th {\n",
       "        text-align: right;\n",
       "    }\n",
       "</style>\n",
       "<table border=\"1\" class=\"dataframe\">\n",
       "  <thead>\n",
       "    <tr style=\"text-align: right;\">\n",
       "      <th></th>\n",
       "      <th>mean_profitability</th>\n",
       "      <th>profitability_quantile_5%</th>\n",
       "      <th>risk,%</th>\n",
       "    </tr>\n",
       "  </thead>\n",
       "  <tbody>\n",
       "    <tr>\n",
       "      <td>wti_predicted</td>\n",
       "      <td>0.045503</td>\n",
       "      <td>0.013967</td>\n",
       "      <td>1.1</td>\n",
       "    </tr>\n",
       "    <tr>\n",
       "      <td>wti_test</td>\n",
       "      <td>0.045624</td>\n",
       "      <td>0.014192</td>\n",
       "      <td>1.1</td>\n",
       "    </tr>\n",
       "  </tbody>\n",
       "</table>\n",
       "</div>"
      ],
      "text/plain": [
       "               mean_profitability  profitability_quantile_5%  risk,%\n",
       "wti_predicted            0.045503                   0.013967     1.1\n",
       "wti_test                 0.045624                   0.014192     1.1"
      ]
     },
     "metadata": {},
     "output_type": "display_data"
    }
   ],
   "source": [
    "wti_stats = pd.DataFrame([[wti_predicted_profitability.mean(),\n",
    "                            wti_predicted_profitability.quantile(0.05),\n",
    "                            wti_predicted_risk],\n",
    "                            [wti_test_profitability.mean(),\n",
    "                            wti_test_profitability.quantile(0.05),\n",
    "                            wti_test_risk]],\n",
    "                           index = ['wti_predicted','wti_test'],\n",
    "                           columns = ['mean_profitability','profitability_quantile_5%','risk,%'])\n",
    "display(wti_stats)"
   ]
  },
  {
   "cell_type": "markdown",
   "metadata": {},
   "source": [
    "Модель практически идеально предсказывала запасы нефти марки *WTI*. И это отразилось в расчете рентабельности разработки этих месторождений. Она даже выше (на 0.005) чем для месторождений марки *Brent*, при меньших средних запасах. Риски убытков так же допустимые - 1.1%. Разработка данных месторождений с вероятностью 95% покажет рентабельность не ниже 1.4%, при средних 4.6%."
   ]
  },
  {
   "cell_type": "markdown",
   "metadata": {},
   "source": [
    "Сравним распределение рентабельности разработки новых скважин для добычи нефти марки *WTI* предсказанную моделью и тестовую."
   ]
  },
  {
   "cell_type": "code",
   "execution_count": 27,
   "metadata": {
    "scrolled": true
   },
   "outputs": [
    {
     "data": {
      "image/png": "[encoded data removed]",
      "text/plain": [
       "<Figure size 432x288 with 1 Axes>"
      ]
     },
     "metadata": {
      "needs_background": "light"
     },
     "output_type": "display_data"
    }
   ],
   "source": [
    "sns.distplot(wti_predicted_profitability, hist_kws={'label':'predicted'})\n",
    "sns.distplot(wti_test_profitability, hist_kws={'label':'test'})\n",
    "plt.legend()\n",
    "plt.xlabel('Валовая рентабельность')\n",
    "plt.title('Валовая рентабельность разработки новых скважин для добычи нефти марки *WTI*')\n",
    "plt.show()"
   ]
  },
  {
   "cell_type": "markdown",
   "metadata": {},
   "source": [
    "Как и ожидалось распределения совпадают."
   ]
  },
  {
   "cell_type": "markdown",
   "metadata": {},
   "source": [
    "## 4.4 Расчет рентабельности разработки месторождений нефти марки  *Light Sweet*"
   ]
  },
  {
   "cell_type": "code",
   "execution_count": 28,
   "metadata": {},
   "outputs": [
    {
     "data": {
      "text/html": [
       "<div>\n",
       "<style scoped>\n",
       "    .dataframe tbody tr th:only-of-type {\n",
       "        vertical-align: middle;\n",
       "    }\n",
       "\n",
       "    .dataframe tbody tr th {\n",
       "        vertical-align: top;\n",
       "    }\n",
       "\n",
       "    .dataframe thead th {\n",
       "        text-align: right;\n",
       "    }\n",
       "</style>\n",
       "<table border=\"1\" class=\"dataframe\">\n",
       "  <thead>\n",
       "    <tr style=\"text-align: right;\">\n",
       "      <th></th>\n",
       "      <th>mean_profitability</th>\n",
       "      <th>profitability_quantile_5%</th>\n",
       "      <th>risk,%</th>\n",
       "    </tr>\n",
       "  </thead>\n",
       "  <tbody>\n",
       "    <tr>\n",
       "      <td>sweet_predicted</td>\n",
       "      <td>0.028727</td>\n",
       "      <td>0.013901</td>\n",
       "      <td>0.0</td>\n",
       "    </tr>\n",
       "    <tr>\n",
       "      <td>sweet_test</td>\n",
       "      <td>0.036436</td>\n",
       "      <td>-0.003610</td>\n",
       "      <td>6.5</td>\n",
       "    </tr>\n",
       "  </tbody>\n",
       "</table>\n",
       "</div>"
      ],
      "text/plain": [
       "                 mean_profitability  profitability_quantile_5%  risk,%\n",
       "sweet_predicted            0.028727                   0.013901     0.0\n",
       "sweet_test                 0.036436                  -0.003610     6.5"
      ]
     },
     "metadata": {},
     "output_type": "display_data"
    }
   ],
   "source": [
    "sweet_stats = pd.DataFrame([[sweet_predicted_profitability.mean(),\n",
    "                            sweet_predicted_profitability.quantile(0.05),\n",
    "                            sweet_predicted_risk],\n",
    "                            [sweet_test_profitability.mean(),\n",
    "                            sweet_test_profitability.quantile(0.05),\n",
    "                            sweet_test_risk]],\n",
    "                           index = ['sweet_predicted','sweet_test'],\n",
    "                           columns = ['mean_profitability','profitability_quantile_5%','risk,%'])\n",
    "display(sweet_stats)"
   ]
  },
  {
   "cell_type": "code",
   "execution_count": 29,
   "metadata": {},
   "outputs": [
    {
     "data": {
      "image/png": "[encoded data removed]",
      "text/plain": [
       "<Figure size 432x288 with 1 Axes>"
      ]
     },
     "metadata": {
      "needs_background": "light"
     },
     "output_type": "display_data"
    }
   ],
   "source": [
    "sns.distplot(sweet_predicted_profitability, hist_kws={'label':'predicted'})\n",
    "sns.distplot(sweet_test_profitability, hist_kws={'label':'test'})\n",
    "plt.legend()\n",
    "plt.xlabel('Валовая рентабельность')\n",
    "plt.title('Валовая рентабельность разработки новых скважин для добычи нефти марки *sweet*')\n",
    "plt.show()"
   ]
  },
  {
   "cell_type": "markdown",
   "metadata": {},
   "source": [
    "Как уже наблюдалось при расчете рентабельности разработки месторождений нефти марки *Brent*, плохо обученная модель дает некачественные предсказания не позволяющие выделить скважины с большими запасами, приносящие бОльшую прибыль. А не выявленные \"пустые\" месторождения увеличивают риск убыточности разработки."
   ]
  },
  {
   "cell_type": "markdown",
   "metadata": {},
   "source": [
    "# 5 Выводы и рекомендации"
   ]
  },
  {
   "cell_type": "markdown",
   "metadata": {},
   "source": [
    "Проведенный анализ представленных данных трех геологоразведочных регионов перспективной добычи нефти показал, что:\n",
    "- наибольшей долей потенциально прибыльных месторождений обладают регионы geo_data_0 и geo_data_2 - примерно 40%;\n",
    "- из-за сложности предсказания количества запасов нефти в месторождениях регионов geo_data_0 и geo_data_2, разработка нефти здесь связана с повышенными рисками убытков - примерно 6%;\n",
    "- предпочтительным регионом для бурения новой скважины можно считать регион geo_data_1: рентабельность не ниже 1.4% (при доверительной вероятности 95%), при средних 4.6%; риск убыточной разработки на уровне 1.1%;\n",
    "- объем запасов нефти в месторождениях региона geo_data_1 возможно предсказать с достаточно высокой точностью, поэтому в случае отдельно взятой скважины возможно получения максимальной рентабельности - порядка 10%."
   ]
  }
 ],
 "metadata": {
  "kernelspec": {
   "display_name": "Python 3",
   "language": "python",
   "name": "python3"
  },
  "language_info": {
   "codemirror_mode": {
    "name": "ipython",
    "version": 3
   },
   "file_extension": ".py",
   "mimetype": "text/x-python",
   "name": "python",
   "nbconvert_exporter": "python",
   "pygments_lexer": "ipython3",
   "version": "3.7.6"
  }
 },
 "nbformat": 4,
 "nbformat_minor": 2
}
